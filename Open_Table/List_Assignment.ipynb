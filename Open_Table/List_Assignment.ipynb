{
 "cells": [
  {
   "cell_type": "markdown",
   "metadata": {},
   "source": [
    "3-10. Every Function: Think of something you could store in a list. For example,\n",
    "you could make a list of mountains, rivers, countries, cities, languages, or anything\n",
    "else you’d like. Write a program that creates a list containing these items\n",
    "and then uses each function introduced in this chapter at least once."
   ]
  },
  {
   "cell_type": "code",
   "execution_count": 5,
   "metadata": {},
   "outputs": [
    {
     "name": "stdout",
     "output_type": "stream",
     "text": [
      "['telugu', 'english', 'hindi', 'tamil', 'malayalam', 'bengali']\n",
      "english\n",
      "Telugu\n",
      "My first language is telugu.\n",
      "['telugu', 'english', 'sanskrit', 'tamil', 'malayalam', 'bengali']\n",
      "['telugu', 'english', 'sanskrit', 'tamil', 'malayalam', 'bengali', 'hindi']\n",
      "['kannada', 'telugu', 'english', 'sanskrit', 'tamil', 'malayalam', 'bengali', 'hindi']\n",
      "['telugu', 'english', 'sanskrit', 'tamil', 'malayalam', 'bengali', 'hindi']\n",
      "['telugu', 'english', 'sanskrit', 'tamil', 'malayalam', 'bengali']\n",
      "hindi\n",
      "Language I have no clue about Bengali.\n",
      "My favourite language is English.\n",
      "['telugu', 'tamil', 'malayalam']\n",
      "['telugu', 'tamil', 'malayalam']\n",
      "['telugu', 'tamil', 'malayalam']\n"
     ]
    },
    {
     "data": {
      "text/plain": [
       "3"
      ]
     },
     "execution_count": 5,
     "metadata": {},
     "output_type": "execute_result"
    }
   ],
   "source": [
    "languages = ['telugu','english','hindi','tamil','malayalam','bengali']\n",
    "print(languages)\n",
    "print(languages[1])\n",
    "print(languages[0].title())\n",
    "\n",
    "message = \"My first language is \" + languages[0] + \".\"\n",
    "print(message)\n",
    "\n",
    "languages[2] = 'sanskrit'\n",
    "print(languages)\n",
    "\n",
    "languages.append('hindi')\n",
    "print(languages)\n",
    "\n",
    "languages.insert(0, 'kannada')\n",
    "print(languages)\n",
    "\n",
    "del languages[0]\n",
    "print(languages)\n",
    "\n",
    "popped_languages = languages.pop()\n",
    "print(languages)\n",
    "print(popped_languages)\n",
    "\n",
    "unknown_language = languages.pop()\n",
    "print(\"Language I have no clue about \" + unknown_language.title() + \".\")\n",
    "widely_spoken = languages.pop(1)\n",
    "print(\"My favourite language is \" + widely_spoken.title() + \".\")\n",
    "\n",
    "languages.remove('sanskrit')\n",
    "print(languages)\n",
    "\n",
    "\n",
    "languages.sort(reverse=True)\n",
    "print(languages)\n",
    "\n",
    "languages.reverse\n",
    "print(languages)\n",
    "\n",
    "len(languages)\n"
   ]
  },
  {
   "cell_type": "markdown",
   "metadata": {},
   "source": [
    "4-2. Animals: Think of at least three different animals that have a common characteristic.\n",
    "Store the names of these animals in a list, and then use a for loop to\n",
    "print out the name of each animal.\n",
    "• Modify your program to print a statement about each animal, such as\n",
    "A dog would make a great pet.\n",
    "• Add a line at the end of your program stating what these animals have in\n",
    "common. You could print a sentence such as Any of these animals would\n",
    "make a great pet!"
   ]
  },
  {
   "cell_type": "code",
   "execution_count": 13,
   "metadata": {},
   "outputs": [
    {
     "name": "stdout",
     "output_type": "stream",
     "text": [
      "Lion\n",
      "Tiger\n",
      "Cheetah\n",
      "Leopard\n",
      "\n",
      "\n",
      "\n",
      "I am Lion and, I am not vegan !\n",
      "I can't wait to see how you roar, Lion\n",
      "\n",
      "I am Tiger and, I am not vegan !\n",
      "I can't wait to see how you roar, Tiger\n",
      "\n",
      "I am Cheetah and, I am not vegan !\n",
      "I can't wait to see how you roar, Cheetah\n",
      "\n",
      "I am Leopard and, I am not vegan !\n",
      "I can't wait to see how you roar, Leopard\n",
      "\n",
      "All these animals belong to cat family\n"
     ]
    }
   ],
   "source": [
    "animals = ['lion', 'tiger', 'cheetah', 'leopard']\n",
    "\n",
    "for animal in animals:\n",
    "    print(animal.title())\n",
    "print(\"\\n\")\n",
    "\n",
    "for animal in animals:\n",
    "    print(\"\\nI am \"+ animal.title() + \" and, I am not vegan !\")\n",
    "    print(\"I can't wait to see how you roar, \" + animal.title())\n",
    "\n",
    "print(\"\\nAll these animals belong to cat family\")"
   ]
  },
  {
   "cell_type": "markdown",
   "metadata": {},
   "source": [
    "4-13. Buffet: A buffet-style restaurant offers only five basic foods. Think of five\n",
    "simple foods, and store them in a tuple.\n",
    "• Use a for loop to print each food the restaurant offers.\n",
    "• Try to modify one of the items, and make sure that Python rejects the\n",
    "change.\n",
    "• The restaurant changes its menu, replacing two of the items with different\n",
    "foods. Add a block of code that rewrites the tuple, and then use a for\n",
    "loop to print each of the items on the revised menu."
   ]
  },
  {
   "cell_type": "code",
   "execution_count": 16,
   "metadata": {},
   "outputs": [
    {
     "name": "stdout",
     "output_type": "stream",
     "text": [
      "Rice\n",
      "Dal\n",
      "Curd\n",
      "Biryani\n",
      "Tandoori Chicken\n",
      "\n",
      "\n",
      "Original menu:\n",
      "Rice\n",
      "Dal\n",
      "Curd\n",
      "Biryani\n",
      "Tandoori Chicken\n",
      "\n",
      "\n",
      "New menu:\n",
      "Fried Rice\n",
      "Dal Makhani\n",
      "Curd\n",
      "Biryani\n",
      "Tandoori Chicken\n"
     ]
    }
   ],
   "source": [
    "foods = ('Rice', 'Dal', 'Curd', 'Biryani', 'Tandoori Chicken')\n",
    "for food in foods:\n",
    "    print(food)\n",
    "print(\"\\n\")\n",
    "print(\"Original menu:\")\n",
    "for food in foods:\n",
    "    print(food)\n",
    "print(\"\\n\")\n",
    "foods = ('Fried Rice', 'Dal Makhani', 'Curd', 'Biryani', 'Tandoori Chicken')\n",
    "\n",
    "print(\"New menu:\")\n",
    "for food in foods:\n",
    "    print(food)"
   ]
  },
  {
   "cell_type": "code",
   "execution_count": 26,
   "metadata": {},
   "outputs": [
    {
     "ename": "TypeError",
     "evalue": "'tuple' object does not support item assignment",
     "output_type": "error",
     "traceback": [
      "\u001b[0;31m---------------------------------------------------------------------------\u001b[0m",
      "\u001b[0;31mTypeError\u001b[0m                                 Traceback (most recent call last)",
      "\u001b[0;32m<ipython-input-26-210b0a729ca4>\u001b[0m in \u001b[0;36m<module>\u001b[0;34m()\u001b[0m\n\u001b[0;32m----> 1\u001b[0;31m \u001b[0mfoods\u001b[0m\u001b[0;34m[\u001b[0m\u001b[0;36m0\u001b[0m\u001b[0;34m]\u001b[0m \u001b[0;34m=\u001b[0m \u001b[0;34m'Fried Rice'\u001b[0m\u001b[0;34m\u001b[0m\u001b[0m\n\u001b[0m",
      "\u001b[0;31mTypeError\u001b[0m: 'tuple' object does not support item assignment"
     ]
    }
   ],
   "source": [
    "foods[0] = 'Fried Rice'"
   ]
  }
 ],
 "metadata": {
  "kernelspec": {
   "display_name": "Python 3",
   "language": "python",
   "name": "python3"
  },
  "language_info": {
   "codemirror_mode": {
    "name": "ipython",
    "version": 3
   },
   "file_extension": ".py",
   "mimetype": "text/x-python",
   "name": "python",
   "nbconvert_exporter": "python",
   "pygments_lexer": "ipython3",
   "version": "3.6.0"
  }
 },
 "nbformat": 4,
 "nbformat_minor": 2
}
