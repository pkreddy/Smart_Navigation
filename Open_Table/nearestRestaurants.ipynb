{
 "cells": [
  {
   "cell_type": "code",
   "execution_count": 86,
   "metadata": {},
   "outputs": [],
   "source": [
    "import urllib.request as url\n",
    "import pandas as pd\n",
    "from geopy.distance import vincenty\n",
    "LAT = 40.7829\n",
    "LON = 73.9654\n",
    "source = (LAT,LON)"
   ]
  },
  {
   "cell_type": "code",
   "execution_count": 87,
   "metadata": {},
   "outputs": [
    {
     "data": {
      "text/plain": [
       "595"
      ]
     },
     "execution_count": 87,
     "metadata": {},
     "output_type": "execute_result"
    }
   ],
   "source": [
    "table_data = pd.read_csv('open_table_data_final.csv',encoding = \"ISO-8859-1\")\n",
    "len(table_data)"
   ]
  },
  {
   "cell_type": "code",
   "execution_count": 88,
   "metadata": {},
   "outputs": [
    {
     "data": {
      "text/plain": [
       "0    40.745962\n",
       "1    40.745394\n",
       "2    40.751123\n",
       "3    40.748476\n",
       "4    40.748698\n",
       "Name: lat, dtype: float64"
      ]
     },
     "execution_count": 88,
     "metadata": {},
     "output_type": "execute_result"
    }
   ],
   "source": [
    "table_data[:5][\"lat\"]\n"
   ]
  },
  {
   "cell_type": "code",
   "execution_count": 89,
   "metadata": {},
   "outputs": [
    {
     "data": {
      "text/plain": [
       "0   -73.988622\n",
       "1   -73.989588\n",
       "2   -74.002069\n",
       "3   -74.003339\n",
       "4   -74.003228\n",
       "Name: lng, dtype: float64"
      ]
     },
     "execution_count": 89,
     "metadata": {},
     "output_type": "execute_result"
    }
   ],
   "source": [
    "table_data[:5][\"lng\"]"
   ]
  },
  {
   "cell_type": "code",
   "execution_count": 90,
   "metadata": {
    "scrolled": false
   },
   "outputs": [],
   "source": [
    "distance = []\n",
    "for i in range(len(table_data)):\n",
    "    lng_dest = table_data.at[i,\"lng\"] *-1\n",
    "    lat_dest = table_data.at[i,\"lat\"]\n",
    "    dest = (lat_dest,lng_dest)\n",
    "    distance.append(vincenty(source, dest).miles)\n",
    "table_data = table_data.assign(dist = distance)"
   ]
  },
  {
   "cell_type": "code",
   "execution_count": 103,
   "metadata": {},
   "outputs": [
    {
     "data": {
      "text/html": [
       "<div>\n",
       "<table border=\"1\" class=\"dataframe\">\n",
       "  <thead>\n",
       "    <tr style=\"text-align: right;\">\n",
       "      <th></th>\n",
       "      <th>id</th>\n",
       "      <th>name</th>\n",
       "      <th>address</th>\n",
       "      <th>city</th>\n",
       "      <th>state</th>\n",
       "      <th>area</th>\n",
       "      <th>postal_code</th>\n",
       "      <th>country</th>\n",
       "      <th>phone</th>\n",
       "      <th>lat</th>\n",
       "      <th>lng</th>\n",
       "      <th>price</th>\n",
       "      <th>reserve_url</th>\n",
       "      <th>mobile_reserve_url</th>\n",
       "      <th>image_url</th>\n",
       "      <th>dist</th>\n",
       "    </tr>\n",
       "  </thead>\n",
       "  <tbody>\n",
       "    <tr>\n",
       "      <th>447</th>\n",
       "      <td>6422</td>\n",
       "      <td>Bella Luna - NYC</td>\n",
       "      <td>584 Columbus Avenue</td>\n",
       "      <td>New York</td>\n",
       "      <td>NY</td>\n",
       "      <td>New York / Tri-State Area</td>\n",
       "      <td>10024</td>\n",
       "      <td>US</td>\n",
       "      <td>2128772267</td>\n",
       "      <td>40.787933</td>\n",
       "      <td>-73.971106</td>\n",
       "      <td>2</td>\n",
       "      <td>http://www.opentable.com/single.aspx?rid=6422</td>\n",
       "      <td>http://mobile.opentable.com/opentable/?restId=...</td>\n",
       "      <td>https://www.opentable.com/img/restimages/6422.jpg</td>\n",
       "      <td>0.458448</td>\n",
       "    </tr>\n",
       "    <tr>\n",
       "      <th>468</th>\n",
       "      <td>52687</td>\n",
       "      <td>Gazala's</td>\n",
       "      <td>380 Columbus Avenue</td>\n",
       "      <td>New York</td>\n",
       "      <td>NY</td>\n",
       "      <td>New York / Tri-State Area</td>\n",
       "      <td>10024</td>\n",
       "      <td>US</td>\n",
       "      <td>2128738880</td>\n",
       "      <td>40.781588</td>\n",
       "      <td>-73.976153</td>\n",
       "      <td>2</td>\n",
       "      <td>http://www.opentable.com/single.aspx?rid=52687</td>\n",
       "      <td>http://mobile.opentable.com/opentable/?restId=...</td>\n",
       "      <td>https://www.opentable.com/img/restimages/52687...</td>\n",
       "      <td>0.571224</td>\n",
       "    </tr>\n",
       "    <tr>\n",
       "      <th>488</th>\n",
       "      <td>57502</td>\n",
       "      <td>Elizabeth's Neighborhood Table</td>\n",
       "      <td>680 Columbus Ave</td>\n",
       "      <td>New York</td>\n",
       "      <td>NY</td>\n",
       "      <td>New York / Tri-State Area</td>\n",
       "      <td>10025</td>\n",
       "      <td>US</td>\n",
       "      <td>2122806500</td>\n",
       "      <td>40.791033</td>\n",
       "      <td>-73.968943</td>\n",
       "      <td>2</td>\n",
       "      <td>http://www.opentable.com/single.aspx?rid=57502</td>\n",
       "      <td>http://mobile.opentable.com/opentable/?restId=...</td>\n",
       "      <td>https://www.opentable.com/img/restimages/57502...</td>\n",
       "      <td>0.591166</td>\n",
       "    </tr>\n",
       "    <tr>\n",
       "      <th>489</th>\n",
       "      <td>6552</td>\n",
       "      <td>Gabriela's</td>\n",
       "      <td>688 Columbus Avenue</td>\n",
       "      <td>New York</td>\n",
       "      <td>NY</td>\n",
       "      <td>New York / Tri-State Area</td>\n",
       "      <td>10025</td>\n",
       "      <td>US</td>\n",
       "      <td>2129619600x</td>\n",
       "      <td>40.791271</td>\n",
       "      <td>-73.968674</td>\n",
       "      <td>2</td>\n",
       "      <td>http://www.opentable.com/single.aspx?rid=6552</td>\n",
       "      <td>http://mobile.opentable.com/opentable/?restId=...</td>\n",
       "      <td>https://www.opentable.com/img/restimages/6552.jpg</td>\n",
       "      <td>0.602608</td>\n",
       "    </tr>\n",
       "  </tbody>\n",
       "</table>\n",
       "</div>"
      ],
      "text/plain": [
       "        id                            name              address      city  \\\n",
       "447   6422                Bella Luna - NYC  584 Columbus Avenue  New York   \n",
       "468  52687                        Gazala's  380 Columbus Avenue  New York   \n",
       "488  57502  Elizabeth's Neighborhood Table     680 Columbus Ave  New York   \n",
       "489   6552                      Gabriela's  688 Columbus Avenue  New York   \n",
       "\n",
       "    state                       area  postal_code country        phone  \\\n",
       "447    NY  New York / Tri-State Area        10024      US   2128772267   \n",
       "468    NY  New York / Tri-State Area        10024      US   2128738880   \n",
       "488    NY  New York / Tri-State Area        10025      US   2122806500   \n",
       "489    NY  New York / Tri-State Area        10025      US  2129619600x   \n",
       "\n",
       "           lat        lng  price  \\\n",
       "447  40.787933 -73.971106      2   \n",
       "468  40.781588 -73.976153      2   \n",
       "488  40.791033 -73.968943      2   \n",
       "489  40.791271 -73.968674      2   \n",
       "\n",
       "                                        reserve_url  \\\n",
       "447   http://www.opentable.com/single.aspx?rid=6422   \n",
       "468  http://www.opentable.com/single.aspx?rid=52687   \n",
       "488  http://www.opentable.com/single.aspx?rid=57502   \n",
       "489   http://www.opentable.com/single.aspx?rid=6552   \n",
       "\n",
       "                                    mobile_reserve_url  \\\n",
       "447  http://mobile.opentable.com/opentable/?restId=...   \n",
       "468  http://mobile.opentable.com/opentable/?restId=...   \n",
       "488  http://mobile.opentable.com/opentable/?restId=...   \n",
       "489  http://mobile.opentable.com/opentable/?restId=...   \n",
       "\n",
       "                                             image_url      dist  \n",
       "447  https://www.opentable.com/img/restimages/6422.jpg  0.458448  \n",
       "468  https://www.opentable.com/img/restimages/52687...  0.571224  \n",
       "488  https://www.opentable.com/img/restimages/57502...  0.591166  \n",
       "489  https://www.opentable.com/img/restimages/6552.jpg  0.602608  "
      ]
     },
     "execution_count": 103,
     "metadata": {},
     "output_type": "execute_result"
    }
   ],
   "source": [
    "#table_data[:5]\n",
    "table_data.sort_values(by=['price','dist'], ascending=[True,True])[1:5]"
   ]
  },
  {
   "cell_type": "code",
   "execution_count": null,
   "metadata": {
    "collapsed": true
   },
   "outputs": [],
   "source": []
  }
 ],
 "metadata": {
  "kernelspec": {
   "display_name": "Python 3",
   "language": "python",
   "name": "python3"
  },
  "language_info": {
   "codemirror_mode": {
    "name": "ipython",
    "version": 3
   },
   "file_extension": ".py",
   "mimetype": "text/x-python",
   "name": "python",
   "nbconvert_exporter": "python",
   "pygments_lexer": "ipython3",
   "version": "3.6.0"
  }
 },
 "nbformat": 4,
 "nbformat_minor": 2
}
