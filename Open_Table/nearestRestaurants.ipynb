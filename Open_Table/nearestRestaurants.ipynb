{
 "cells": [
  {
   "cell_type": "code",
   "execution_count": 3,
   "metadata": {
    "collapsed": true
   },
   "outputs": [],
   "source": [
    "import urllib.request as url\n",
    "import pandas as pd\n",
    "from geopy.distance import vincenty\n",
    "import webbrowser\n",
    "import json\n",
    "import time\n",
    "import subprocess\n",
    "import os\n",
    "from geopy.geocoders import Nominatim\n",
    "geolocator = Nominatim()\n",
    "LAT = 40.7829\n",
    "LON = 73.9654\n",
    "global source\n",
    "source = (LAT,LON)"
   ]
  },
  {
   "cell_type": "code",
   "execution_count": 4,
   "metadata": {},
   "outputs": [
    {
     "data": {
      "text/plain": [
       "595"
      ]
     },
     "execution_count": 4,
     "metadata": {},
     "output_type": "execute_result"
    }
   ],
   "source": [
    "table_data = pd.read_csv('open_table_data_final.csv',encoding = \"ISO-8859-1\")\n",
    "len(table_data)\n"
   ]
  },
  {
   "cell_type": "code",
   "execution_count": 5,
   "metadata": {},
   "outputs": [
    {
     "data": {
      "text/plain": [
       "0    40.745962\n",
       "1    40.745394\n",
       "2    40.751123\n",
       "3    40.748476\n",
       "4    40.748698\n",
       "Name: lat, dtype: float64"
      ]
     },
     "execution_count": 5,
     "metadata": {},
     "output_type": "execute_result"
    }
   ],
   "source": [
    "table_data[:5][\"lat\"]\n"
   ]
  },
  {
   "cell_type": "code",
   "execution_count": 6,
   "metadata": {},
   "outputs": [
    {
     "data": {
      "text/plain": [
       "0   -73.988622\n",
       "1   -73.989588\n",
       "2   -74.002069\n",
       "3   -74.003339\n",
       "4   -74.003228\n",
       "Name: lng, dtype: float64"
      ]
     },
     "execution_count": 6,
     "metadata": {},
     "output_type": "execute_result"
    }
   ],
   "source": [
    "table_data[:5][\"lng\"]"
   ]
  },
  {
   "cell_type": "markdown",
   "metadata": {},
   "source": [
    "Call the below function when you data needs to merged and data is manually cleaned for required cuisines"
   ]
  },
  {
   "cell_type": "code",
   "execution_count": 7,
   "metadata": {
    "collapsed": true
   },
   "outputs": [],
   "source": [
    "def createMergedDataSet():\n",
    "    pd1 = pd.read_csv('open_table_data_final.csv',encoding = \"ISO-8859-1\")\n",
    "    pd2 = pd.read_csv('metaDataRestaurant.csv',encoding = \"ISO-8859-1\")\n",
    "    merged = pd1.merge(pd2,how='outer',on='id')\n",
    "    merged.to_csv('data_set_merged.csv',encoding = \"ISO-8859-1\")"
   ]
  },
  {
   "cell_type": "code",
   "execution_count": 8,
   "metadata": {
    "collapsed": true,
    "scrolled": false
   },
   "outputs": [],
   "source": [
    "def calculateDistance(table_data,source):\n",
    "    distance = []\n",
    "    #print(source)\n",
    "    #table_data1 = pd.DataFrame()\n",
    "    for i in range(len(table_data)):\n",
    "        lat_dest = table_data.at[i,\"lat\"]\n",
    "        lng_dest = table_data.at[i,\"lng\"]\n",
    "        dest = (lat_dest,lng_dest)\n",
    "        distance.append(vincenty(source, dest).miles)\n",
    "    table_data = table_data.assign(dist = distance)\n",
    "    #print(table_data.sort_values(by=['price','dist'], ascending=[True,True])[1:5])\n",
    "    return table_data\n"
   ]
  },
  {
   "cell_type": "code",
   "execution_count": 9,
   "metadata": {
    "collapsed": true
   },
   "outputs": [],
   "source": [
    "#using geopy displacement\n",
    "def getLatAndLng(place):\n",
    "    location = geolocator.geocode(place)\n",
    "    print((location.latitude, location.longitude))\n",
    "    return [location.latitude,location.longitude]"
   ]
  },
  {
   "cell_type": "code",
   "execution_count": 10,
   "metadata": {
    "collapsed": true
   },
   "outputs": [],
   "source": [
    "#using osrm matrix distance\n",
    "def calculateDistanceOSRM(table_data,source):\n",
    "    #print(table_data.head())\n",
    "    distance = []\n",
    "    table_temp = pd.DataFrame()\n",
    "    #data = json.load(url.urlopen(\"http://router.project-osrm.org/table/v1/drive/-73.987330,40.748711;-74.0134,40.7127?sources=1\"))\n",
    "    #for i in range(5):\n",
    "    for i in range(len(table_data)):\n",
    "        #lat_dest = table_data.at[i,\"lat\"]\n",
    "        lat_dest = table_data[\"lat\"][i]\n",
    "        #lng_dest = table_data.at[i,\"lng\"]\n",
    "        lng_dest = table_data[\"lng\"][i]\n",
    "        json_data = url.urlopen(\"http://router.project-osrm.org/table/v1/drive/\"+str(source[1])+\",\"+str(source[0])+\";\"+str(lng_dest)+\",\"+str(lat_dest)+\"?sources=1\")\n",
    "        data = json.load(json_data)\n",
    "        calc_distance = round((data['durations'][0][0])*0.000621371,4)\n",
    "        distance.append(calc_distance)\n",
    "    \n",
    "    #table_temp = table_data[0:5]\n",
    "    table_temp = table_data\n",
    "    table_temp = table_temp.assign(dist = distance)\n",
    "    #table_data = table_data.assign(dist = distance)\n",
    "    #print(table_data.sort_values(by=['price','dist'], ascending=[True,True])[1:5])\n",
    "    #return table_data\n",
    "    return table_temp"
   ]
  },
  {
   "cell_type": "code",
   "execution_count": 11,
   "metadata": {
    "collapsed": true
   },
   "outputs": [],
   "source": [
    "def searchForRestaurant(query,table_data):\n",
    "    table_data_dist_osrm = pd.DataFrame()\n",
    "    print(\"SearchForRestaurant\",len(table_data))\n",
    "    if(\"near me\" in query or \"nearme\" in query):\n",
    "        LAT = 40.7829\n",
    "        LON = 73.9654\n",
    "        source = (LAT,LON)\n",
    "    else:\n",
    "        place = query.split(\"near\")\n",
    "        loc = getLatAndLng(place)\n",
    "        LAT = loc[0]\n",
    "        LON = loc[1]\n",
    "        source = (LAT,LON)\n",
    "        table_data_dist = pd.DataFrame()\n",
    "        #table_data_dist = calculateDistance(table_data,source)\n",
    "        tabel_data_dist_osrm = calculateDistanceOSRM(table_data,source)\n",
    "        #print(type(table_data_dist_osrm))\n",
    "    return (table_data_dist,tabel_data_dist_osrm,LAT,LON)"
   ]
  },
  {
   "cell_type": "code",
   "execution_count": 12,
   "metadata": {
    "collapsed": true
   },
   "outputs": [],
   "source": [
    "def openMap(src_LAT,src_LON,des_LAT,des_LON):\n",
    "    webbrowser.open(\"https://www.openstreetmap.org/directions?engine=graphhopper_car&route=\"+str(src_LAT)+\"%2C\"+str(src_LON)+\"%3B\"+str(des_LAT)+\"%2C\"+str(des_LON),new=2)\n",
    "    time.sleep(1)"
   ]
  },
  {
   "cell_type": "code",
   "execution_count": 13,
   "metadata": {
    "collapsed": true
   },
   "outputs": [],
   "source": [
    "def call_recommender():\n",
    "    os.remove('E:\\\\Google Drive\\\\Fall 17 Sem 2\\\\620 Data Visualization\\\\Project\\\\Smart_Navigation\\\\Open_Table\\\\success')\n",
    "    subprocess.call('run_recommender.bat')\n",
    "    #while(not(os.path.exists('E:\\\\Google Drive\\\\Fall 17 Sem 2\\\\620 Data Visualization\\\\Project\\\\Smart_Navigation\\\\Open_Table\\\\success'))):\n",
    "        #None"
   ]
  },
  {
   "cell_type": "code",
   "execution_count": 14,
   "metadata": {
    "collapsed": true
   },
   "outputs": [],
   "source": [
    "def defactorizeCuisine():\n",
    "    recommended_data = pd.read_csv('recommendation.csv',encoding = \"ISO-8859-1\")\n",
    "    #print(recommended_data.head())\n",
    "    factor = ['American', ' Italian', 'Steakhouse', 'French', 'Indian', 'Mexican', 'Japanese','Chinese',  'Spanish', 'Pizzeria','Burgers','Korean', 'Vegetarian', 'Dessert'] \n",
    "    for i in range(0,len(factor)):\n",
    "        #print(factor[i])\n",
    "        recommended_data['Cuisine'] = recommended_data['Cuisine'].replace(i+1, factor[i], regex=True)\n",
    "    recommended_data.to_csv('recommendation.csv',encoding = \"ISO-8859-1\")"
   ]
  },
  {
   "cell_type": "code",
   "execution_count": 15,
   "metadata": {
    "collapsed": true
   },
   "outputs": [],
   "source": [
    "def cleanMergedData():\n",
    "    merged_data = pd.read_csv('data_set_merged-cleaned.csv',encoding = \"ISO-8859-1\")\n",
    "    pd1 = pd.read_csv('recommendation.csv',encoding = \"ISO-8859-1\")\n",
    "    recommended_cuisine = pd1['Cuisine']\n",
    "    for i in range(len(merged_data)):\n",
    "        cuisine = merged_data.at[i,'cuisines']\n",
    "        for j in range(len(pd1)):\n",
    "            if pd1.at[j,'Cuisine'] in cuisine:\n",
    "                merged_data.at[i,'cuisines'] = pd1.at[j,'Cuisine']\n",
    "                #print(pd1.at[j,'Cuisine'],cuisine)\n",
    "    merged_data.to_csv('data_set_merged_cleaned.csv',encoding = \"ISO-8859-1\")            "
   ]
  },
  {
   "cell_type": "code",
   "execution_count": 17,
   "metadata": {
    "scrolled": true
   },
   "outputs": [
    {
     "name": "stdout",
     "output_type": "stream",
     "text": [
      "53\n"
     ]
    }
   ],
   "source": [
    "table_data_dist = pd.DataFrame()\n",
    "tabel_data_dist_osrm = pd.DataFrame()\n",
    "temp = pd.DataFrame()\n",
    "call_recommender()\n",
    "createMergedDataSet()\n",
    "defactorizeCuisine()\n",
    "cleanMergedData()\n",
    "pd1 = pd.read_csv('data_set_merged_cleaned.csv',encoding = \"ISO-8859-1\")\n",
    "pd2 = pd.read_csv('recommendation.csv',encoding = \"ISO-8859-1\")\n",
    "cuisine_value = pd2['Cuisine']\n",
    "data = pd1[(pd1['cuisines']==cuisine_value[0]) | (pd1['cuisines']==cuisine_value[1]) | (pd1['cuisines']==cuisine_value[2]) | (pd1['cuisines']==cuisine_value[3]) | (pd1['cuisines']==cuisine_value[4])]\n",
    "data = data.merge(table_data,how='inner',on='id')\n",
    "data = data.rename(index=str, columns = {\"lat_y\":\"lat\",\"lng_y\":\"lng\",\"price_y\":\"price\"})\n",
    "print(len(data))\n",
    "#print(data.head())\n",
    "#print(data['lat'])\n",
    "#pd2.head()"
   ]
  },
  {
   "cell_type": "code",
   "execution_count": 19,
   "metadata": {},
   "outputs": [],
   "source": [
    "def searchForRestaurants():\n",
    "    print(\"Enter the location where you want to satisfy your foodie desire:\")\n",
    "    table_data_dist,tabel_data_dist_osrm,src_LAT,src_LON = searchForRestaurant(input(),data)\n",
    "    #print(type(table_data_dist))\n",
    "    #table_data_dist.sort_values(by=['price','dist'], ascending=[True,True])[1:5]\n",
    "    temp = tabel_data_dist_osrm.sort_values(by=['price','dist'], ascending=[True,True])[1:6]\n",
    "    print(temp['name_x'])\n",
    "    for i in range(5):\n",
    "        openMap(src_LAT,src_LON,temp.iloc[i][\"lat\"],temp.iloc[i][\"lng\"])"
   ]
  },
  {
   "cell_type": "code",
   "execution_count": 29,
   "metadata": {},
   "outputs": [
    {
     "name": "stdout",
     "output_type": "stream",
     "text": [
      "Enter the location where you want to satisfy your foodie desire:\n",
      "near bryant park\n",
      "SearchForRestaurant 53\n",
      "(40.75374985, -73.9835672012434)\n",
      "29                 Thai Select\n",
      "50                    Il Forno\n",
      "1          Stella 34 Trattoria\n",
      "13    Trattoria Zero Otto Nove\n",
      "30                      Iguana\n",
      "Name: name_x, dtype: object\n"
     ]
    }
   ],
   "source": [
    "searchForRestaurants()"
   ]
  },
  {
   "cell_type": "code",
   "execution_count": null,
   "metadata": {},
   "outputs": [],
   "source": [
    "#calculateDistance()\n",
    "#table_data_dist\n",
    "#table_data[:5]\n",
    "#table_data.sort_values(by=['price','dist'], ascending=[True,True])[1:5]\n",
    "print(temp.iloc[0][\"lat\"])\n",
    "print(temp.iloc[0][\"lng\"])"
   ]
  },
  {
   "cell_type": "code",
   "execution_count": null,
   "metadata": {},
   "outputs": [],
   "source": [
    "#table_data_dist,tabel_data_dist_osrm,src_LAT,src_LON = searchForRestaurant(input(),data)\n",
    "#len(data)\n",
    "table_data_dist = pd.DataFrame()\n",
    "tabel_data_dist_osrm = pd.DataFrame()\n",
    "temp = pd.DataFrame()\n",
    "call_recommender()\n",
    "createMergedDataSet()\n",
    "defactorizeCuisine()\n",
    "cleanMergedData()"
   ]
  },
  {
   "cell_type": "code",
   "execution_count": 27,
   "metadata": {},
   "outputs": [
    {
     "data": {
      "text/plain": [
       "Location(Wall Street, Southbridge Towers, Manhattan Community Board 1, New York County, NYC, New York, 10005, United States of America, (40.7048017, -74.0069496, 0.0))"
      ]
     },
     "execution_count": 27,
     "metadata": {},
     "output_type": "execute_result"
    }
   ],
   "source": [
    "geolocator.geocode(\"Wall Street\")"
   ]
  }
 ],
 "metadata": {
  "kernelspec": {
   "display_name": "Python 3",
   "language": "python",
   "name": "python3"
  },
  "language_info": {
   "codemirror_mode": {
    "name": "ipython",
    "version": 3
   },
   "file_extension": ".py",
   "mimetype": "text/x-python",
   "name": "python",
   "nbconvert_exporter": "python",
   "pygments_lexer": "ipython3",
   "version": "3.6.0"
  }
 },
 "nbformat": 4,
 "nbformat_minor": 2
}
