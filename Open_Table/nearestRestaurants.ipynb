{
 "cells": [
  {
   "cell_type": "code",
   "execution_count": 118,
   "metadata": {
    "collapsed": true
   },
   "outputs": [],
   "source": [
    "import urllib.request as url\n",
    "import pandas as pd\n",
    "from geopy.distance import vincenty\n",
    "import webbrowser\n",
    "import json\n",
    "import time\n",
    "from geopy.geocoders import Nominatim\n",
    "geolocator = Nominatim()\n",
    "LAT = 40.7829\n",
    "LON = 73.9654\n",
    "global source\n",
    "source = (LAT,LON)"
   ]
  },
  {
   "cell_type": "code",
   "execution_count": 119,
   "metadata": {},
   "outputs": [
    {
     "data": {
      "text/plain": [
       "595"
      ]
     },
     "execution_count": 119,
     "metadata": {},
     "output_type": "execute_result"
    }
   ],
   "source": [
    "table_data = pd.read_csv('open_table_data_final.csv',encoding = \"ISO-8859-1\")\n",
    "len(table_data)\n"
   ]
  },
  {
   "cell_type": "code",
   "execution_count": 120,
   "metadata": {},
   "outputs": [
    {
     "data": {
      "text/plain": [
       "0    40.745962\n",
       "1    40.745394\n",
       "2    40.751123\n",
       "3    40.748476\n",
       "4    40.748698\n",
       "Name: lat, dtype: float64"
      ]
     },
     "execution_count": 120,
     "metadata": {},
     "output_type": "execute_result"
    }
   ],
   "source": [
    "table_data[:5][\"lat\"]\n"
   ]
  },
  {
   "cell_type": "code",
   "execution_count": 121,
   "metadata": {},
   "outputs": [
    {
     "data": {
      "text/plain": [
       "0   -73.988622\n",
       "1   -73.989588\n",
       "2   -74.002069\n",
       "3   -74.003339\n",
       "4   -74.003228\n",
       "Name: lng, dtype: float64"
      ]
     },
     "execution_count": 121,
     "metadata": {},
     "output_type": "execute_result"
    }
   ],
   "source": [
    "table_data[:5][\"lng\"]"
   ]
  },
  {
   "cell_type": "code",
   "execution_count": 122,
   "metadata": {
    "collapsed": true,
    "scrolled": false
   },
   "outputs": [],
   "source": [
    "def calculateDistance(table_data,source):\n",
    "    distance = []\n",
    "    #print(source)\n",
    "    #table_data1 = pd.DataFrame()\n",
    "    for i in range(len(table_data)):\n",
    "        lat_dest = table_data.at[i,\"lat\"]\n",
    "        lng_dest = table_data.at[i,\"lng\"]\n",
    "        dest = (lat_dest,lng_dest)\n",
    "        distance.append(vincenty(source, dest).miles)\n",
    "    table_data = table_data.assign(dist = distance)\n",
    "    #print(table_data.sort_values(by=['price','dist'], ascending=[True,True])[1:5])\n",
    "    return table_data\n"
   ]
  },
  {
   "cell_type": "code",
   "execution_count": 123,
   "metadata": {
    "collapsed": true
   },
   "outputs": [],
   "source": [
    "#using geopy displacement\n",
    "def getLatAndLng(place):\n",
    "    location = geolocator.geocode(place)\n",
    "    print((location.latitude, location.longitude))\n",
    "    return [location.latitude,location.longitude]"
   ]
  },
  {
   "cell_type": "code",
   "execution_count": 124,
   "metadata": {
    "collapsed": true
   },
   "outputs": [],
   "source": [
    "#using osrm matrix distance\n",
    "def calculateDistanceOSRM(table_data,source):\n",
    "    distance = []\n",
    "    table_temp = pd.DataFrame()\n",
    "    #data = json.load(url.urlopen(\"http://router.project-osrm.org/table/v1/drive/-73.987330,40.748711;-74.0134,40.7127?sources=1\"))\n",
    "    for i in range(5):\n",
    "        lat_dest = table_data.at[i,\"lat\"]\n",
    "        lng_dest = table_data.at[i,\"lng\"]\n",
    "        json_data = url.urlopen(\"http://router.project-osrm.org/table/v1/drive/\"+str(source[1])+\",\"+str(source[0])+\";\"+str(lng_dest)+\",\"+str(lat_dest)+\"?sources=1\")\n",
    "        data = json.load(json_data)\n",
    "        calc_distance = round((data['durations'][0][0])*0.000621371,4)\n",
    "        distance.append(calc_distance)\n",
    "    \n",
    "    table_temp = table_data[0:5]\n",
    "    table_temp = table_temp.assign(dist = distance)\n",
    "    #table_data = table_data.assign(dist = distance)\n",
    "    #print(table_data.sort_values(by=['price','dist'], ascending=[True,True])[1:5])\n",
    "    #return table_data\n",
    "    return table_temp"
   ]
  },
  {
   "cell_type": "code",
   "execution_count": 125,
   "metadata": {
    "collapsed": true
   },
   "outputs": [],
   "source": [
    "def searchForRestaurant(query,table_data):\n",
    "    table_data_dist_osrm = pd.DataFrame()\n",
    "    if(\"near me\" in query or \"nearme\" in query):\n",
    "        LAT = 40.7829\n",
    "        LON = 73.9654\n",
    "        source = (LAT,LON)\n",
    "    else:\n",
    "        place = query.split(\"near\")\n",
    "        loc = getLatAndLng(place)\n",
    "        LAT = loc[0]\n",
    "        LON = loc[1]\n",
    "        source = (LAT,LON)\n",
    "        table_data_dist = pd.DataFrame()\n",
    "        table_data_dist = calculateDistance(table_data,source)\n",
    "        tabel_data_dist_osrm = calculateDistanceOSRM(table_data,source)\n",
    "        #print(type(table_data_dist_osrm))\n",
    "    return (table_data_dist,tabel_data_dist_osrm,LAT,LON)"
   ]
  },
  {
   "cell_type": "code",
   "execution_count": 126,
   "metadata": {
    "collapsed": true
   },
   "outputs": [],
   "source": [
    "def openMap(src_LAT,src_LON,des_LAT,des_LON):\n",
    "    webbrowser.open(\"https://www.openstreetmap.org/directions?engine=graphhopper_car&route=\"+str(src_LAT)+\"%2C\"+str(src_LON)+\"%3B\"+str(des_LAT)+\"%2C\"+str(des_LON),new=2)\n",
    "    time.sleep(1)"
   ]
  },
  {
   "cell_type": "code",
   "execution_count": 130,
   "metadata": {
    "scrolled": true
   },
   "outputs": [
    {
     "name": "stdout",
     "output_type": "stream",
     "text": [
      "please enter your query to search\n",
      "near west 33rd street\n",
      "(39.3271062, -76.6266024)\n",
      "       id                  name          address      city state  \\\n",
      "2  115729          Gastromarket     315 10th Ave  New York    NY   \n",
      "4  103945             Chop Shop  254 10th Avenue  New York    NY   \n",
      "3     345               Bottino     246 10th Ave  New York    NY   \n",
      "0  144703  John Dory Oyster Bar    1196 Broadway  New York    NY   \n",
      "\n",
      "                        area  postal_code country        phone        lat  \\\n",
      "2  New York / Tri-State Area        10001      US  2126958080x  40.751123   \n",
      "4  New York / Tri-State Area        10001      US   2128200333  40.748698   \n",
      "3  New York / Tri-State Area        10001      US   2122066767  40.748476   \n",
      "0  New York / Tri-State Area        10001      US  2127929000x  40.745962   \n",
      "\n",
      "         lng  price                                      reserve_url  \\\n",
      "2 -74.002069      3  http://www.opentable.com/single.aspx?rid=115729   \n",
      "4 -74.003228      3  http://www.opentable.com/single.aspx?rid=103945   \n",
      "3 -74.003339      3     http://www.opentable.com/single.aspx?rid=345   \n",
      "0 -73.988622      4   https://www.opentable.com/john-dory-oyster-bar   \n",
      "\n",
      "                                  mobile_reserve_url  \\\n",
      "2  http://mobile.opentable.com/opentable/?restId=...   \n",
      "4  http://mobile.opentable.com/opentable/?restId=...   \n",
      "3  http://mobile.opentable.com/opentable/?restId=345   \n",
      "0  http://mobile.opentable.com/opentable/?restId=...   \n",
      "\n",
      "                                           image_url    dist  \n",
      "2  https://www.opentable.com/img/restimages/11572...  7.1188  \n",
      "4  https://www.opentable.com/img/restimages/10394...  7.1356  \n",
      "3   https://www.opentable.com/img/restimages/345.jpg  7.1376  \n",
      "0  https://www.opentable.com/img/restimages/14470...  7.3864  \n"
     ]
    },
    {
     "ename": "IndexError",
     "evalue": "single positional indexer is out-of-bounds",
     "output_type": "error",
     "traceback": [
      "\u001b[0;31m---------------------------------------------------------------------------\u001b[0m",
      "\u001b[0;31mIndexError\u001b[0m                                Traceback (most recent call last)",
      "\u001b[0;32m<ipython-input-130-cd0039a4b7b3>\u001b[0m in \u001b[0;36m<module>\u001b[0;34m()\u001b[0m\n\u001b[1;32m      9\u001b[0m \u001b[0mprint\u001b[0m\u001b[1;33m(\u001b[0m\u001b[0mtemp\u001b[0m\u001b[1;33m)\u001b[0m\u001b[1;33m\u001b[0m\u001b[0m\n\u001b[1;32m     10\u001b[0m \u001b[1;32mfor\u001b[0m \u001b[0mi\u001b[0m \u001b[1;32min\u001b[0m \u001b[0mrange\u001b[0m\u001b[1;33m(\u001b[0m\u001b[1;36m5\u001b[0m\u001b[1;33m)\u001b[0m\u001b[1;33m:\u001b[0m\u001b[1;33m\u001b[0m\u001b[0m\n\u001b[0;32m---> 11\u001b[0;31m     \u001b[0mopenMap\u001b[0m\u001b[1;33m(\u001b[0m\u001b[0msrc_LAT\u001b[0m\u001b[1;33m,\u001b[0m\u001b[0msrc_LON\u001b[0m\u001b[1;33m,\u001b[0m\u001b[0mtemp\u001b[0m\u001b[1;33m.\u001b[0m\u001b[0miloc\u001b[0m\u001b[1;33m[\u001b[0m\u001b[0mi\u001b[0m\u001b[1;33m]\u001b[0m\u001b[1;33m[\u001b[0m\u001b[1;34m\"lat\"\u001b[0m\u001b[1;33m]\u001b[0m\u001b[1;33m,\u001b[0m\u001b[0mtemp\u001b[0m\u001b[1;33m.\u001b[0m\u001b[0miloc\u001b[0m\u001b[1;33m[\u001b[0m\u001b[0mi\u001b[0m\u001b[1;33m]\u001b[0m\u001b[1;33m[\u001b[0m\u001b[1;34m\"lng\"\u001b[0m\u001b[1;33m]\u001b[0m\u001b[1;33m)\u001b[0m\u001b[1;33m\u001b[0m\u001b[0m\n\u001b[0m",
      "\u001b[0;32mC:\\Users\\prana\\Anaconda3\\lib\\site-packages\\pandas\\core\\indexing.py\u001b[0m in \u001b[0;36m__getitem__\u001b[0;34m(self, key)\u001b[0m\n\u001b[1;32m   1310\u001b[0m             \u001b[1;32mreturn\u001b[0m \u001b[0mself\u001b[0m\u001b[1;33m.\u001b[0m\u001b[0m_getitem_tuple\u001b[0m\u001b[1;33m(\u001b[0m\u001b[0mkey\u001b[0m\u001b[1;33m)\u001b[0m\u001b[1;33m\u001b[0m\u001b[0m\n\u001b[1;32m   1311\u001b[0m         \u001b[1;32melse\u001b[0m\u001b[1;33m:\u001b[0m\u001b[1;33m\u001b[0m\u001b[0m\n\u001b[0;32m-> 1312\u001b[0;31m             \u001b[1;32mreturn\u001b[0m \u001b[0mself\u001b[0m\u001b[1;33m.\u001b[0m\u001b[0m_getitem_axis\u001b[0m\u001b[1;33m(\u001b[0m\u001b[0mkey\u001b[0m\u001b[1;33m,\u001b[0m \u001b[0maxis\u001b[0m\u001b[1;33m=\u001b[0m\u001b[1;36m0\u001b[0m\u001b[1;33m)\u001b[0m\u001b[1;33m\u001b[0m\u001b[0m\n\u001b[0m\u001b[1;32m   1313\u001b[0m \u001b[1;33m\u001b[0m\u001b[0m\n\u001b[1;32m   1314\u001b[0m     \u001b[1;32mdef\u001b[0m \u001b[0m_getitem_axis\u001b[0m\u001b[1;33m(\u001b[0m\u001b[0mself\u001b[0m\u001b[1;33m,\u001b[0m \u001b[0mkey\u001b[0m\u001b[1;33m,\u001b[0m \u001b[0maxis\u001b[0m\u001b[1;33m=\u001b[0m\u001b[1;36m0\u001b[0m\u001b[1;33m)\u001b[0m\u001b[1;33m:\u001b[0m\u001b[1;33m\u001b[0m\u001b[0m\n",
      "\u001b[0;32mC:\\Users\\prana\\Anaconda3\\lib\\site-packages\\pandas\\core\\indexing.py\u001b[0m in \u001b[0;36m_getitem_axis\u001b[0;34m(self, key, axis)\u001b[0m\n\u001b[1;32m   1626\u001b[0m \u001b[1;33m\u001b[0m\u001b[0m\n\u001b[1;32m   1627\u001b[0m                 \u001b[1;31m# validate the location\u001b[0m\u001b[1;33m\u001b[0m\u001b[1;33m\u001b[0m\u001b[0m\n\u001b[0;32m-> 1628\u001b[0;31m                 \u001b[0mself\u001b[0m\u001b[1;33m.\u001b[0m\u001b[0m_is_valid_integer\u001b[0m\u001b[1;33m(\u001b[0m\u001b[0mkey\u001b[0m\u001b[1;33m,\u001b[0m \u001b[0maxis\u001b[0m\u001b[1;33m)\u001b[0m\u001b[1;33m\u001b[0m\u001b[0m\n\u001b[0m\u001b[1;32m   1629\u001b[0m \u001b[1;33m\u001b[0m\u001b[0m\n\u001b[1;32m   1630\u001b[0m             \u001b[1;32mreturn\u001b[0m \u001b[0mself\u001b[0m\u001b[1;33m.\u001b[0m\u001b[0m_get_loc\u001b[0m\u001b[1;33m(\u001b[0m\u001b[0mkey\u001b[0m\u001b[1;33m,\u001b[0m \u001b[0maxis\u001b[0m\u001b[1;33m=\u001b[0m\u001b[0maxis\u001b[0m\u001b[1;33m)\u001b[0m\u001b[1;33m\u001b[0m\u001b[0m\n",
      "\u001b[0;32mC:\\Users\\prana\\Anaconda3\\lib\\site-packages\\pandas\\core\\indexing.py\u001b[0m in \u001b[0;36m_is_valid_integer\u001b[0;34m(self, key, axis)\u001b[0m\n\u001b[1;32m   1540\u001b[0m         \u001b[0ml\u001b[0m \u001b[1;33m=\u001b[0m \u001b[0mlen\u001b[0m\u001b[1;33m(\u001b[0m\u001b[0max\u001b[0m\u001b[1;33m)\u001b[0m\u001b[1;33m\u001b[0m\u001b[0m\n\u001b[1;32m   1541\u001b[0m         \u001b[1;32mif\u001b[0m \u001b[0mkey\u001b[0m \u001b[1;33m>=\u001b[0m \u001b[0ml\u001b[0m \u001b[1;32mor\u001b[0m \u001b[0mkey\u001b[0m \u001b[1;33m<\u001b[0m \u001b[1;33m-\u001b[0m\u001b[0ml\u001b[0m\u001b[1;33m:\u001b[0m\u001b[1;33m\u001b[0m\u001b[0m\n\u001b[0;32m-> 1542\u001b[0;31m             \u001b[1;32mraise\u001b[0m \u001b[0mIndexError\u001b[0m\u001b[1;33m(\u001b[0m\u001b[1;34m\"single positional indexer is out-of-bounds\"\u001b[0m\u001b[1;33m)\u001b[0m\u001b[1;33m\u001b[0m\u001b[0m\n\u001b[0m\u001b[1;32m   1543\u001b[0m         \u001b[1;32mreturn\u001b[0m \u001b[1;32mTrue\u001b[0m\u001b[1;33m\u001b[0m\u001b[0m\n\u001b[1;32m   1544\u001b[0m \u001b[1;33m\u001b[0m\u001b[0m\n",
      "\u001b[0;31mIndexError\u001b[0m: single positional indexer is out-of-bounds"
     ]
    }
   ],
   "source": [
    "table_data_dist = pd.DataFrame()\n",
    "tabel_data_dist_osrm = pd.DataFrame()\n",
    "temp = pd.DataFrame()\n",
    "print(\"please enter your query to search\")\n",
    "table_data_dist,tabel_data_dist_osrm,src_LAT,src_LON = searchForRestaurant(input(),table_data)\n",
    "#print(type(table_data_dist))\n",
    "#table_data_dist.sort_values(by=['price','dist'], ascending=[True,True])[1:5]\n",
    "temp = tabel_data_dist_osrm.sort_values(by=['price','dist'], ascending=[True,True])[1:5]\n",
    "print(temp)\n",
    "for i in range(4):\n",
    "    openMap(src_LAT,src_LON,temp.iloc[i][\"lat\"],temp.iloc[i][\"lng\"])"
   ]
  },
  {
   "cell_type": "code",
   "execution_count": 128,
   "metadata": {},
   "outputs": [
    {
     "name": "stdout",
     "output_type": "stream",
     "text": [
      "40.751123\n",
      "-74.002069\n"
     ]
    }
   ],
   "source": [
    "#calculateDistance()\n",
    "#table_data_dist\n",
    "#table_data[:5]\n",
    "#table_data.sort_values(by=['price','dist'], ascending=[True,True])[1:5]\n",
    "print(temp.iloc[0][\"lat\"])\n",
    "print(temp.iloc[0][\"lng\"])"
   ]
  }
 ],
 "metadata": {
  "kernelspec": {
   "display_name": "Python 3",
   "language": "python",
   "name": "python3"
  },
  "language_info": {
   "codemirror_mode": {
    "name": "ipython",
    "version": 3
   },
   "file_extension": ".py",
   "mimetype": "text/x-python",
   "name": "python",
   "nbconvert_exporter": "python",
   "pygments_lexer": "ipython3",
   "version": "3.6.0"
  }
 },
 "nbformat": 4,
 "nbformat_minor": 2
}
