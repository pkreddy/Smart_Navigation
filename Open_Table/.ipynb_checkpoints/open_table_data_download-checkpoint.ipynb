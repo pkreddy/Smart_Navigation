{
 "cells": [
  {
   "cell_type": "code",
   "execution_count": 67,
   "metadata": {},
   "outputs": [
    {
     "name": "stdout",
     "output_type": "stream",
     "text": [
      "E:\\Google Drive\\Fall 17 Sem 2\\620 Data Visualization\\Project\\Smart_Navigation\\Open_Table\n"
     ]
    },
    {
     "data": {
      "text/plain": [
       "True"
      ]
     },
     "execution_count": 67,
     "metadata": {},
     "output_type": "execute_result"
    }
   ],
   "source": [
    "import json\n",
    "import requests\n",
    "import urllib.request as url\n",
    "import math as m\n",
    "import os\n",
    "path = os.getcwd()\n",
    "print(path)\n",
    "os.path.isfile('open_table_data.csv')"
   ]
  },
  {
   "cell_type": "markdown",
   "metadata": {},
   "source": [
    "# Check if data file exists"
   ]
  },
  {
   "cell_type": "code",
   "execution_count": 68,
   "metadata": {},
   "outputs": [],
   "source": [
    "file_exists = os.path.isfile('open_table_data.csv')\n",
    "f = open('open_table_data.csv', 'w')\n",
    "f.write(\"id~name~address~city~state~area~postal_code~country~phone~lat~lng~price~reserve_url~mobile_reserve_url~image_url\")\n",
    "f.close()"
   ]
  },
  {
   "cell_type": "code",
   "execution_count": 69,
   "metadata": {
    "collapsed": true
   },
   "outputs": [],
   "source": [
    "def writeToCsv(open_table):\n",
    "    f = open('open_table_data.csv','w')\n",
    "    for data in open_table:\n",
    "        f.write(data+\"\\n\")\n",
    "    f.close()"
   ]
  },
  {
   "cell_type": "code",
   "execution_count": 70,
   "metadata": {
    "collapsed": true
   },
   "outputs": [],
   "source": [
    "def convertToCsvFormat(data,list_number):\n",
    "    parameters = [\"id\",\"name\",\"address\",\"city\",\"state\",\"area\",\"postal_code\",\"country\",\"phone\",\"lat\",\"lng\",\"price\",\"reserve_url\",\"mobile_reserve_url\",\"image_url\"]\n",
    "    csv = []\n",
    "    for params in parameters:\n",
    "        csv.append(str(data['restaurants'][list_number][params]))\n",
    "    return ('~'.join(csv))"
   ]
  },
  {
   "cell_type": "code",
   "execution_count": 71,
   "metadata": {},
   "outputs": [],
   "source": [
    "def getDataFromAPI(zip):\n",
    "    open_table_list = []\n",
    "    json_data = url.urlopen(\"https://opentable.herokuapp.com/api/restaurants?city=New%20York&zip=\"+zip+\"&page=1\")\n",
    "    data = json.load(json_data)\n",
    "    total = data['total_entries']\n",
    "    for i in range(1,m.ceil(total/25)+1):\n",
    "        #print(\"Getting all restaurants from page\",i,\"with zip\",zip)\n",
    "        json_data1 = url.urlopen(\"https://opentable.herokuapp.com/api/restaurants?city=New%20York&zip=\"+zip+\"&page=1\")\n",
    "        data = json.load(json_data1)\n",
    "        len(data['restaurants'])\n",
    "        for i in range(len(data['restaurants'])):\n",
    "            open_table_list.append(convertToCsvFormat(data,i))\n",
    "        writeToCsv(open_table_list)\n",
    "\n",
    "#print(data['restaurants'])"
   ]
  },
  {
   "cell_type": "code",
   "execution_count": 72,
   "metadata": {},
   "outputs": [],
   "source": [
    "zipCodes = [10001,10002,10003,10004,10005,10007,10009,10010,10011,10012,10013,10014,10016,10017,10018,10019,10020,10021,10022,10023,10023,10024,10025,10026,10027,10028,10029,10030,10031,10032,10033,10034,10035,10036,10037,10038,10039,10040,10044]\n",
    "#zipCodes = [10001]\n",
    "for zip in zipCodes:\n",
    "    getDataFromAPI(str(zip))"
   ]
  }
 ],
 "metadata": {
  "kernelspec": {
   "display_name": "Python 3",
   "language": "python",
   "name": "python3"
  },
  "language_info": {
   "codemirror_mode": {
    "name": "ipython",
    "version": 3
   },
   "file_extension": ".py",
   "mimetype": "text/x-python",
   "name": "python",
   "nbconvert_exporter": "python",
   "pygments_lexer": "ipython3",
   "version": "3.6.0"
  }
 },
 "nbformat": 4,
 "nbformat_minor": 2
}
