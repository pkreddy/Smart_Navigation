{
 "cells": [
  {
   "cell_type": "markdown",
   "metadata": {},
   "source": [
    "3-10. Every Function: Think of something you could store in a list. For example,\n",
    "you could make a list of mountains, rivers, countries, cities, languages, or anything\n",
    "else you’d like. Write a program that creates a list containing these items\n",
    "and then uses each function introduced in this chapter at least once."
   ]
  },
  {
   "cell_type": "code",
   "execution_count": 8,
   "metadata": {},
   "outputs": [
    {
     "name": "stdout",
     "output_type": "stream",
     "text": [
      "['gucci', 'Louis Vuitton', 'H&M', 'Levis', 'Zara', 'Prada']\n",
      "Louis Vuitton\n",
      "Gucci\n",
      "My favourite brand is Louis Vuitton.\n",
      "['gucci', 'Louis Vuitton', 'Forever 21', 'Levis', 'Zara', 'Prada']\n",
      "['gucci', 'Louis Vuitton', 'Forever 21', 'Levis', 'Zara', 'Prada', 'H&M']\n",
      "['Ted Baker', 'gucci', 'Louis Vuitton', 'Forever 21', 'Levis', 'Zara', 'Prada', 'H&M']\n",
      "['gucci', 'Louis Vuitton', 'Forever 21', 'Levis', 'Zara', 'Prada', 'H&M']\n",
      "['gucci', 'Louis Vuitton', 'Forever 21', 'Levis', 'Zara', 'Prada']\n",
      "H&M\n",
      "My least favourite brand is Prada.\n",
      "My favourite brand is Louis Vuitton.\n",
      "['gucci', 'Forever 21', 'Zara']\n",
      "['gucci', 'Forever 21']\n",
      "\n",
      "aZarais too expensive for me\n",
      "['gucci', 'Forever 21', 'Prada']\n",
      "['gucci', 'Prada', 'Forever 21']\n",
      "Original list:\n",
      "['gucci', 'Louis Vuitton', 'H&M', 'Levis', 'Zara', 'Prada']\n",
      "\n",
      " Sorted list:\n",
      "['H&M', 'Levis', 'Louis Vuitton', 'Prada', 'Zara', 'gucci']\n",
      "['gucci', 'Prada', 'Forever 21']\n"
     ]
    },
    {
     "data": {
      "text/plain": [
       "3"
      ]
     },
     "execution_count": 8,
     "metadata": {},
     "output_type": "execute_result"
    }
   ],
   "source": [
    "brands = ['gucci', 'Louis Vuitton', 'H&M', 'Levis', 'Zara', 'Prada']\n",
    "print(brands)\n",
    "print(brands[1])\n",
    "print(brands[0].title())\n",
    "\n",
    "message = \"My favourite brand is \" + brands[1] + \".\"\n",
    "print(message)\n",
    "\n",
    "brands[2] = 'Forever 21'\n",
    "print(brands)\n",
    "\n",
    "brands.append('H&M')\n",
    "print(brands)\n",
    "\n",
    "brands.insert(0, 'Ted Baker')\n",
    "print(brands)\n",
    "\n",
    "del brands[0]\n",
    "print(brands)\n",
    "\n",
    "popped_brands = brands.pop()\n",
    "print(brands)\n",
    "print(popped_brands)\n",
    "\n",
    "least_favourite = brands.pop()\n",
    "print(\"My least favourite brand is \" + least_favourite.title() + \".\")\n",
    "favourite = brands.pop(1)\n",
    "print(\"My favourite brand is \" + favourite.title() + \".\")\n",
    "\n",
    "brands.remove('Levis')\n",
    "print(brands)\n",
    "\n",
    "too_expensive = 'Zara'\n",
    "brands.remove(too_expensive)\n",
    "print(brands)\n",
    "print(\"\\na\" + too_expensive.title() + \"is too expensive for me\")\n",
    "\n",
    "brands.append('Prada')\n",
    "brands.sort\n",
    "print(brands)\n",
    "\n",
    "brands.sort(reverse=True)\n",
    "print(brands)\n",
    "\n",
    "brands1 = ['gucci', 'Louis Vuitton', 'H&M', 'Levis', 'Zara', 'Prada']\n",
    "\n",
    "print(\"Original list:\")\n",
    "print(brands1)\n",
    "print(\"\\n Sorted list:\")\n",
    "print(sorted(brands1))\n",
    "\n",
    "brands.reverse\n",
    "print(brands)\n",
    "\n",
    "len(brands)\n"
   ]
  },
  {
   "cell_type": "markdown",
   "metadata": {},
   "source": [
    "4-2. Animals: Think of at least three different animals that have a common characteristic.\n",
    "Store the names of these animals in a list, and then use a for loop to\n",
    "print out the name of each animal.\n",
    "• Modify your program to print a statement about each animal, such as\n",
    "A dog would make a great pet.\n",
    "• Add a line at the end of your program stating what these animals have in\n",
    "common. You could print a sentence such as Any of these animals would\n",
    "make a great pet!"
   ]
  },
  {
   "cell_type": "code",
   "execution_count": 19,
   "metadata": {},
   "outputs": [
    {
     "name": "stdout",
     "output_type": "stream",
     "text": [
      "Duck\n",
      "Swan\n",
      "Flamingo\n",
      "\n",
      "\n",
      "Duck, those are great wings!\n",
      "I can't wait to see how you fly, Duck\n",
      "All these animals can fly! \n",
      "\n",
      "Swan, those are great wings!\n",
      "I can't wait to see how you fly, Swan\n",
      "All these animals can fly! \n",
      "\n",
      "Flamingo, those are great wings!\n",
      "I can't wait to see how you fly, Flamingo\n",
      "All these animals can fly! \n",
      "\n"
     ]
    }
   ],
   "source": [
    "animals = ['duck', 'swan', 'flamingo']\n",
    "\n",
    "for animal in animals:\n",
    "    print(animal.title())\n",
    "print(\"\\n\")\n",
    "\n",
    "for animal in animals:\n",
    "    print(animal.title() + \", those are great wings!\")\n",
    "    print(\"I can't wait to see how you fly, \" + animal.title())\n",
    "\n",
    "    print(\"All these animals can fly! \\n\")"
   ]
  },
  {
   "cell_type": "markdown",
   "metadata": {},
   "source": [
    "4-13. Buffet: A buffet-style restaurant offers only five basic foods. Think of five\n",
    "simple foods, and store them in a tuple.\n",
    "• Use a for loop to print each food the restaurant offers.\n",
    "• Try to modify one of the items, and make sure that Python rejects the\n",
    "change.\n",
    "• The restaurant changes its menu, replacing two of the items with different\n",
    "foods. Add a block of code that rewrites the tuple, and then use a for\n",
    "loop to print each of the items on the revised menu."
   ]
  },
  {
   "cell_type": "code",
   "execution_count": 25,
   "metadata": {},
   "outputs": [
    {
     "name": "stdout",
     "output_type": "stream",
     "text": [
      "Rice\n",
      "Chicken and Broccoli\n",
      "Salad\n",
      "Egg roll\n",
      "Pizza\n",
      "\n",
      "\n",
      "Original menu\n",
      "Rice\n",
      "Chicken and Broccoli\n",
      "Salad\n",
      "Egg roll\n",
      "Pizza\n",
      "\n",
      "\n",
      "New menu\n",
      "Fried Rice\n",
      "Mac N Cheese\n",
      "Fish\n",
      "Steak\n",
      "Bread\n"
     ]
    }
   ],
   "source": [
    "foods = ('Rice', 'Chicken and Broccoli', 'Salad', 'Egg roll', 'Pizza')\n",
    "for food in foods:\n",
    "    print(food)\n",
    "print(\"\\n\")\n",
    "print(\"Original menu:\")\n",
    "for food in foods:\n",
    "    print(food)\n",
    "print(\"\\n\")\n",
    "foods = ('Fried Rice', 'Mac N Cheese', 'Fish', 'Steak', 'Bread')\n",
    "\n",
    "print(\"New menu:\")\n",
    "for food in foods:\n",
    "    print(food)"
   ]
  },
  {
   "cell_type": "code",
   "execution_count": 26,
   "metadata": {},
   "outputs": [
    {
     "ename": "TypeError",
     "evalue": "'tuple' object does not support item assignment",
     "output_type": "error",
     "traceback": [
      "\u001b[0;31m---------------------------------------------------------------------------\u001b[0m",
      "\u001b[0;31mTypeError\u001b[0m                                 Traceback (most recent call last)",
      "\u001b[0;32m<ipython-input-26-210b0a729ca4>\u001b[0m in \u001b[0;36m<module>\u001b[0;34m()\u001b[0m\n\u001b[0;32m----> 1\u001b[0;31m \u001b[0mfoods\u001b[0m\u001b[0;34m[\u001b[0m\u001b[0;36m0\u001b[0m\u001b[0;34m]\u001b[0m \u001b[0;34m=\u001b[0m \u001b[0;34m'Fried Rice'\u001b[0m\u001b[0;34m\u001b[0m\u001b[0m\n\u001b[0m",
      "\u001b[0;31mTypeError\u001b[0m: 'tuple' object does not support item assignment"
     ]
    }
   ],
   "source": [
    "foods[0] = 'Fried Rice'"
   ]
  }
 ],
 "metadata": {
  "kernelspec": {
   "display_name": "Python 3",
   "language": "python",
   "name": "python3"
  },
  "language_info": {
   "codemirror_mode": {
    "name": "ipython",
    "version": 3
   },
   "file_extension": ".py",
   "mimetype": "text/x-python",
   "name": "python",
   "nbconvert_exporter": "python",
   "pygments_lexer": "ipython3",
   "version": "3.6.1"
  }
 },
 "nbformat": 4,
 "nbformat_minor": 2
}
