{
 "cells": [
  {
   "cell_type": "code",
   "execution_count": 3,
   "metadata": {
    "collapsed": true
   },
   "outputs": [],
   "source": [
    "import urllib.request as url\n",
    "import pandas as pd\n",
    "from geopy.distance import vincenty\n",
    "import webbrowser\n",
    "import json\n",
    "import time\n",
    "import subprocess\n",
    "import os\n",
    "from geopy.geocoders import Nominatim\n",
    "geolocator = Nominatim()\n",
    "LAT = 40.7829\n",
    "LON = 73.9654\n",
    "global source\n",
    "source = (LAT,LON)"
   ]
  },
  {
   "cell_type": "code",
   "execution_count": 4,
   "metadata": {},
   "outputs": [
    {
     "data": {
      "text/plain": [
       "595"
      ]
     },
     "execution_count": 4,
     "metadata": {},
     "output_type": "execute_result"
    }
   ],
   "source": [
    "table_data = pd.read_csv('open_table_data_final.csv',encoding = \"ISO-8859-1\")\n",
    "len(table_data)\n"
   ]
  },
  {
   "cell_type": "code",
   "execution_count": 5,
   "metadata": {},
   "outputs": [
    {
     "data": {
      "text/plain": [
       "0    40.745962\n",
       "1    40.745394\n",
       "2    40.751123\n",
       "3    40.748476\n",
       "4    40.748698\n",
       "Name: lat, dtype: float64"
      ]
     },
     "execution_count": 5,
     "metadata": {},
     "output_type": "execute_result"
    }
   ],
   "source": [
    "table_data[:5][\"lat\"]\n"
   ]
  },
  {
   "cell_type": "code",
   "execution_count": 6,
   "metadata": {},
   "outputs": [
    {
     "data": {
      "text/plain": [
       "0   -73.988622\n",
       "1   -73.989588\n",
       "2   -74.002069\n",
       "3   -74.003339\n",
       "4   -74.003228\n",
       "Name: lng, dtype: float64"
      ]
     },
     "execution_count": 6,
     "metadata": {},
     "output_type": "execute_result"
    }
   ],
   "source": [
    "table_data[:5][\"lng\"]"
   ]
  },
  {
   "cell_type": "markdown",
   "metadata": {},
   "source": [
    "Call the below function when you data needs to merged and data is manually cleaned for required cuisines"
   ]
  },
  {
   "cell_type": "code",
   "execution_count": 7,
   "metadata": {
    "collapsed": true
   },
   "outputs": [],
   "source": [
    "def createMergedDataSet():\n",
    "    pd1 = pd.read_csv('open_table_data_final.csv',encoding = \"ISO-8859-1\")\n",
    "    pd2 = pd.read_csv('metaDataRestaurant.csv',encoding = \"ISO-8859-1\")\n",
    "    merged = pd1.merge(pd2,how='outer',on='id')\n",
    "    merged.to_csv('data_set_merged.csv',encoding = \"ISO-8859-1\")"
   ]
  },
  {
   "cell_type": "code",
   "execution_count": 8,
   "metadata": {
    "collapsed": true,
    "scrolled": false
   },
   "outputs": [],
   "source": [
    "def calculateDistance(table_data,source):\n",
    "    distance = []\n",
    "    #print(source)\n",
    "    #table_data1 = pd.DataFrame()\n",
    "    for i in range(len(table_data)):\n",
    "        lat_dest = table_data.at[i,\"lat\"]\n",
    "        lng_dest = table_data.at[i,\"lng\"]\n",
    "        dest = (lat_dest,lng_dest)\n",
    "        distance.append(vincenty(source, dest).miles)\n",
    "    table_data = table_data.assign(dist = distance)\n",
    "    #print(table_data.sort_values(by=['price','dist'], ascending=[True,True])[1:5])\n",
    "    return table_data\n"
   ]
  },
  {
   "cell_type": "code",
   "execution_count": 9,
   "metadata": {
    "collapsed": true
   },
   "outputs": [],
   "source": [
    "#using geopy displacement\n",
    "def getLatAndLng(place):\n",
    "    location = geolocator.geocode(place)\n",
    "    print((location.latitude, location.longitude))\n",
    "    return [location.latitude,location.longitude]"
   ]
  },
  {
   "cell_type": "code",
   "execution_count": 46,
   "metadata": {
    "collapsed": true
   },
   "outputs": [],
   "source": [
    "#using osrm matrix distance\n",
    "def calculateDistanceOSRM(table_data,source):\n",
    "    print(table_data.head())\n",
    "    distance = []\n",
    "    table_temp = pd.DataFrame()\n",
    "    #data = json.load(url.urlopen(\"http://router.project-osrm.org/table/v1/drive/-73.987330,40.748711;-74.0134,40.7127?sources=1\"))\n",
    "    #for i in range(5):\n",
    "    for i in range(len(table_data)):\n",
    "        #lat_dest = table_data.at[i,\"lat\"]\n",
    "        lat_dest = table_data[\"lat\"][i]\n",
    "        #lng_dest = table_data.at[i,\"lng\"]\n",
    "        lng_dest = table_data[\"lng\"][i]\n",
    "        json_data = url.urlopen(\"http://router.project-osrm.org/table/v1/drive/\"+str(source[1])+\",\"+str(source[0])+\";\"+str(lng_dest)+\",\"+str(lat_dest)+\"?sources=1\")\n",
    "        data = json.load(json_data)\n",
    "        calc_distance = round((data['durations'][0][0])*0.000621371,4)\n",
    "        distance.append(calc_distance)\n",
    "    \n",
    "    #table_temp = table_data[0:5]\n",
    "    table_temp = table_data\n",
    "    table_temp = table_temp.assign(dist = distance)\n",
    "    #table_data = table_data.assign(dist = distance)\n",
    "    #print(table_data.sort_values(by=['price','dist'], ascending=[True,True])[1:5])\n",
    "    #return table_data\n",
    "    return table_temp"
   ]
  },
  {
   "cell_type": "code",
   "execution_count": 11,
   "metadata": {
    "collapsed": true
   },
   "outputs": [],
   "source": [
    "def searchForRestaurant(query,table_data):\n",
    "    table_data_dist_osrm = pd.DataFrame()\n",
    "    print(\"SearchForRestaurant\",len(table_data))\n",
    "    if(\"near me\" in query or \"nearme\" in query):\n",
    "        LAT = 40.7829\n",
    "        LON = 73.9654\n",
    "        source = (LAT,LON)\n",
    "    else:\n",
    "        place = query.split(\"near\")\n",
    "        loc = getLatAndLng(place)\n",
    "        LAT = loc[0]\n",
    "        LON = loc[1]\n",
    "        source = (LAT,LON)\n",
    "        table_data_dist = pd.DataFrame()\n",
    "        #table_data_dist = calculateDistance(table_data,source)\n",
    "        tabel_data_dist_osrm = calculateDistanceOSRM(table_data,source)\n",
    "        #print(type(table_data_dist_osrm))\n",
    "    return (table_data_dist,tabel_data_dist_osrm,LAT,LON)"
   ]
  },
  {
   "cell_type": "code",
   "execution_count": 12,
   "metadata": {
    "collapsed": true
   },
   "outputs": [],
   "source": [
    "def openMap(src_LAT,src_LON,des_LAT,des_LON):\n",
    "    webbrowser.open(\"https://www.openstreetmap.org/directions?engine=graphhopper_car&route=\"+str(src_LAT)+\"%2C\"+str(src_LON)+\"%3B\"+str(des_LAT)+\"%2C\"+str(des_LON),new=2)\n",
    "    time.sleep(1)"
   ]
  },
  {
   "cell_type": "code",
   "execution_count": 13,
   "metadata": {
    "collapsed": true
   },
   "outputs": [],
   "source": [
    "def call_recommender():\n",
    "    os.remove('E:\\\\Google Drive\\\\Fall 17 Sem 2\\\\620 Data Visualization\\\\Project\\\\Smart_Navigation\\\\Open_Table\\\\success')\n",
    "    subprocess.call('run_recommender.bat')\n",
    "    #while(not(os.path.exists('E:\\\\Google Drive\\\\Fall 17 Sem 2\\\\620 Data Visualization\\\\Project\\\\Smart_Navigation\\\\Open_Table\\\\success'))):\n",
    "        #None"
   ]
  },
  {
   "cell_type": "code",
   "execution_count": 14,
   "metadata": {
    "collapsed": true
   },
   "outputs": [],
   "source": [
    "def defactorizeCuisine():\n",
    "    recommended_data = pd.read_csv('recommendation.csv',encoding = \"ISO-8859-1\")\n",
    "    #print(recommended_data.head())\n",
    "    factor = ['American', ' Italian', 'Steakhouse', 'French', 'Indian', 'Mexican', 'Japanese','Chinese',  'Spanish', 'Pizzeria','Burgers','Korean', 'Vegetarian', 'Dessert'] \n",
    "    for i in range(0,len(factor)):\n",
    "        #print(factor[i])\n",
    "        recommended_data['Cuisine'] = recommended_data['Cuisine'].replace(i+1, factor[i], regex=True)\n",
    "    recommended_data.to_csv('recommendation.csv',encoding = \"ISO-8859-1\")"
   ]
  },
  {
   "cell_type": "code",
   "execution_count": 15,
   "metadata": {
    "collapsed": true
   },
   "outputs": [],
   "source": [
    "def cleanMergedData():\n",
    "    merged_data = pd.read_csv('data_set_merged-cleaned.csv',encoding = \"ISO-8859-1\")\n",
    "    pd1 = pd.read_csv('recommendation.csv',encoding = \"ISO-8859-1\")\n",
    "    recommended_cuisine = pd1['Cuisine']\n",
    "    for i in range(len(merged_data)):\n",
    "        cuisine = merged_data.at[i,'cuisines']\n",
    "        for j in range(len(pd1)):\n",
    "            if pd1.at[j,'Cuisine'] in cuisine:\n",
    "                merged_data.at[i,'cuisines'] = pd1.at[j,'Cuisine']\n",
    "                print(pd1.at[j,'Cuisine'],cuisine)\n",
    "    merged_data.to_csv('data_set_merged_cleaned.csv',encoding = \"ISO-8859-1\")            "
   ]
  },
  {
   "cell_type": "code",
   "execution_count": 48,
   "metadata": {
    "scrolled": true
   },
   "outputs": [
    {
     "name": "stdout",
     "output_type": "stream",
     "text": [
      "Korean Korean Barbecue Vegetarian\n",
      "Vegetarian Korean Barbecue Vegetarian\n",
      "Pizzeria Italian Pizzeria Contemporary Italian\n",
      "Japanese Japanese\n",
      "Mexican Regional Mexican\n",
      "Korean Korean Asian Gastro Pub\n",
      "Pizzeria Italian Pizzeria\n",
      "Japanese Japanese Fusion / Eclectic\n",
      "Japanese Japanese Sushi Bar / Lounge / Bottle Service\n",
      "Japanese Japanese\n",
      "Mexican Mexican\n",
      "Mexican Contemporary Mexican\n",
      "Pizzeria Italian Pizzeria Tapas / Small Plates\n",
      "Japanese Sushi Japanese Contemporary Asian\n",
      "Pizzeria Italian Pizzeria\n",
      "Mexican Mexican\n",
      "Japanese Japanese Sushi\n",
      "Japanese Japanese Sushi\n",
      "Japanese Japanese Sushi Seafood\n",
      "Japanese Japanese\n",
      "Korean Korean Asian\n",
      "Mexican Mexican / Southwestern Traditional Mexican Regional Mexican\n",
      "Mexican Mexican Contemporary Mexican Mexican / Southwestern\n",
      "Mexican Mexican\n",
      "Mexican Mexican\n",
      "Japanese Japanese\n",
      "Mexican Mexican\n",
      "Pizzeria Pizzeria Italian\n",
      "Mexican Mexican\n",
      "Japanese Japanese Fusion / Eclectic Sushi\n",
      "Vegetarian Thai Vegetarian / Vegan\n",
      "Mexican Mexican American\n",
      "Japanese Japanese Sushi\n",
      "Mexican Mexican\n",
      "Mexican Mexican\n",
      "Japanese Japanese Sushi Steakhouse\n",
      "Japanese Sushi Japanese\n",
      "Mexican Mexican / Southwestern\n",
      "Japanese Japanese Sushi\n",
      "Vegetarian Italian Vegetarian / Vegan\n",
      "Japanese Sushi Japanese\n",
      "Mexican Mexican / Southwestern Contemporary Mexican\n",
      "Vegetarian Organic Vegetarian / Vegan\n",
      "Mexican Mexican Seafood Burgers\n",
      "Mexican Mexican Mexican / Southwestern\n",
      "Vegetarian Italian Mediterranean Vegetarian\n",
      "Japanese Japanese Sushi\n",
      "Mexican Mexican\n",
      "Pizzeria Italian Pizzeria\n",
      "Vegetarian Italian Vegetarian\n",
      "Mexican Mexican\n",
      "Pizzeria Italian Pizzeria Dessert\n",
      "Japanese Japanese Barbecue Tapas / Small Plates\n",
      "Pizzeria Italian Pizzeria\n",
      "53\n",
      "please enter your query to search\n",
      "near bryant park\n",
      "SearchForRestaurant 53\n",
      "(40.75374985, -73.9835672012434)\n",
      "   Unnamed: 0  Unnamed: 0.1      id               name_x  \\\n",
      "0           7             8   92776             GAONNURI   \n",
      "1           8            10  102115  Stella 34 Trattoria   \n",
      "2          23            35   85645             Yopparai   \n",
      "3          24            36  112546          Casa Mezcal   \n",
      "4          32            50  104296             Barn Joo   \n",
      "\n",
      "                  address_x    city_x state_x                     area_x  \\\n",
      "0  1250 BROADWAY 39th Floor  New York      NY  New York / Tri-State Area   \n",
      "1   Macys at Herald Square  New York      NY  New York / Tri-State Area   \n",
      "2         151 Rivington St.  New York      NY  New York / Tri-State Area   \n",
      "3             86 Orchard St  New York      NY  New York / Tri-State Area   \n",
      "4              893 Broadway  New York      NY  New York / Tri-State Area   \n",
      "\n",
      "   postal_code_x country_x                        ...                          \\\n",
      "0          10001        US                        ...                           \n",
      "1          10001        US                        ...                           \n",
      "2          10002        US                        ...                           \n",
      "3          10002        US                        ...                           \n",
      "4          10003        US                        ...                           \n",
      "\n",
      "                      area_y  postal_code_y  country_y      phone_y  \\\n",
      "0  New York / Tri-State Area          10001         US  2129719045x   \n",
      "1  New York / Tri-State Area          10001         US  2129679251x   \n",
      "2  New York / Tri-State Area          10002         US   2127777253   \n",
      "3  New York / Tri-State Area          10002         US  2127772600x   \n",
      "4  New York / Tri-State Area          10003         US  6463989663x   \n",
      "\n",
      "         lat        lng price  \\\n",
      "0  40.748135 -73.988038     3   \n",
      "1  40.750124 -73.988318     2   \n",
      "2  40.719193 -73.985528     3   \n",
      "3  40.717960 -73.990232     3   \n",
      "4  40.738912 -73.990223     3   \n",
      "\n",
      "                                     reserve_url_y  \\\n",
      "0   http://www.opentable.com/single.aspx?rid=92776   \n",
      "1  http://www.opentable.com/single.aspx?rid=102115   \n",
      "2   http://www.opentable.com/single.aspx?rid=85645   \n",
      "3  http://www.opentable.com/single.aspx?rid=112546   \n",
      "4  http://www.opentable.com/single.aspx?rid=104296   \n",
      "\n",
      "                                mobile_reserve_url_y  \\\n",
      "0  http://mobile.opentable.com/opentable/?restId=...   \n",
      "1  http://mobile.opentable.com/opentable/?restId=...   \n",
      "2  http://mobile.opentable.com/opentable/?restId=...   \n",
      "3  http://mobile.opentable.com/opentable/?restId=...   \n",
      "4  http://mobile.opentable.com/opentable/?restId=...   \n",
      "\n",
      "                                         image_url_y  \n",
      "0  https://www.opentable.com/img/restimages/92776...  \n",
      "1  https://www.opentable.com/img/restimages/10211...  \n",
      "2  https://www.opentable.com/img/restimages/85645...  \n",
      "3  https://www.opentable.com/img/restimages/11254...  \n",
      "4  https://www.opentable.com/img/restimages/10429...  \n",
      "\n",
      "[5 rows x 42 columns]\n"
     ]
    },
    {
     "ename": "ValueError",
     "evalue": "Length of ascending (2) != length of by (1)",
     "output_type": "error",
     "traceback": [
      "\u001b[0;31m---------------------------------------------------------------------------\u001b[0m",
      "\u001b[0;31mValueError\u001b[0m                                Traceback (most recent call last)",
      "\u001b[0;32m<ipython-input-48-8fa345952ea2>\u001b[0m in \u001b[0;36m<module>\u001b[0;34m()\u001b[0m\n\u001b[1;32m     20\u001b[0m \u001b[1;31m#print(type(table_data_dist))\u001b[0m\u001b[1;33m\u001b[0m\u001b[1;33m\u001b[0m\u001b[0m\n\u001b[1;32m     21\u001b[0m \u001b[1;31m#table_data_dist.sort_values(by=['price','dist'], ascending=[True,True])[1:5]\u001b[0m\u001b[1;33m\u001b[0m\u001b[1;33m\u001b[0m\u001b[0m\n\u001b[0;32m---> 22\u001b[0;31m \u001b[0mtemp\u001b[0m \u001b[1;33m=\u001b[0m \u001b[0mtabel_data_dist_osrm\u001b[0m\u001b[1;33m.\u001b[0m\u001b[0msort_values\u001b[0m\u001b[1;33m(\u001b[0m\u001b[0mby\u001b[0m\u001b[1;33m=\u001b[0m\u001b[1;33m[\u001b[0m\u001b[1;34m'dist'\u001b[0m\u001b[1;33m]\u001b[0m\u001b[1;33m,\u001b[0m \u001b[0mascending\u001b[0m\u001b[1;33m=\u001b[0m\u001b[1;33m[\u001b[0m\u001b[1;32mTrue\u001b[0m\u001b[1;33m,\u001b[0m\u001b[1;32mTrue\u001b[0m\u001b[1;33m]\u001b[0m\u001b[1;33m)\u001b[0m\u001b[1;33m[\u001b[0m\u001b[1;36m1\u001b[0m\u001b[1;33m:\u001b[0m\u001b[1;36m5\u001b[0m\u001b[1;33m]\u001b[0m\u001b[1;33m\u001b[0m\u001b[0m\n\u001b[0m\u001b[1;32m     23\u001b[0m \u001b[0mprint\u001b[0m\u001b[1;33m(\u001b[0m\u001b[0mtemp\u001b[0m\u001b[1;33m)\u001b[0m\u001b[1;33m\u001b[0m\u001b[0m\n\u001b[1;32m     24\u001b[0m \u001b[1;32mfor\u001b[0m \u001b[0mi\u001b[0m \u001b[1;32min\u001b[0m \u001b[0mrange\u001b[0m\u001b[1;33m(\u001b[0m\u001b[1;36m4\u001b[0m\u001b[1;33m)\u001b[0m\u001b[1;33m:\u001b[0m\u001b[1;33m\u001b[0m\u001b[0m\n",
      "\u001b[0;32mC:\\Users\\prana\\Anaconda3\\lib\\site-packages\\pandas\\core\\frame.py\u001b[0m in \u001b[0;36msort_values\u001b[0;34m(self, by, axis, ascending, inplace, kind, na_position)\u001b[0m\n\u001b[1;32m   3205\u001b[0m         \u001b[1;32mif\u001b[0m \u001b[0mis_sequence\u001b[0m\u001b[1;33m(\u001b[0m\u001b[0mascending\u001b[0m\u001b[1;33m)\u001b[0m \u001b[1;32mand\u001b[0m \u001b[0mlen\u001b[0m\u001b[1;33m(\u001b[0m\u001b[0mby\u001b[0m\u001b[1;33m)\u001b[0m \u001b[1;33m!=\u001b[0m \u001b[0mlen\u001b[0m\u001b[1;33m(\u001b[0m\u001b[0mascending\u001b[0m\u001b[1;33m)\u001b[0m\u001b[1;33m:\u001b[0m\u001b[1;33m\u001b[0m\u001b[0m\n\u001b[1;32m   3206\u001b[0m             raise ValueError('Length of ascending (%d) != length of by (%d)' %\n\u001b[0;32m-> 3207\u001b[0;31m                              (len(ascending), len(by)))\n\u001b[0m\u001b[1;32m   3208\u001b[0m         \u001b[1;32mif\u001b[0m \u001b[0mlen\u001b[0m\u001b[1;33m(\u001b[0m\u001b[0mby\u001b[0m\u001b[1;33m)\u001b[0m \u001b[1;33m>\u001b[0m \u001b[1;36m1\u001b[0m\u001b[1;33m:\u001b[0m\u001b[1;33m\u001b[0m\u001b[0m\n\u001b[1;32m   3209\u001b[0m             \u001b[1;32mfrom\u001b[0m \u001b[0mpandas\u001b[0m\u001b[1;33m.\u001b[0m\u001b[0mcore\u001b[0m\u001b[1;33m.\u001b[0m\u001b[0mgroupby\u001b[0m \u001b[1;32mimport\u001b[0m \u001b[0m_lexsort_indexer\u001b[0m\u001b[1;33m\u001b[0m\u001b[0m\n",
      "\u001b[0;31mValueError\u001b[0m: Length of ascending (2) != length of by (1)"
     ]
    }
   ],
   "source": [
    "table_data_dist = pd.DataFrame()\n",
    "tabel_data_dist_osrm = pd.DataFrame()\n",
    "temp = pd.DataFrame()\n",
    "call_recommender()\n",
    "createMergedDataSet()\n",
    "defactorizeCuisine()\n",
    "cleanMergedData()\n",
    "pd1 = pd.read_csv('data_set_merged_cleaned.csv',encoding = \"ISO-8859-1\")\n",
    "pd2 = pd.read_csv('recommendation.csv',encoding = \"ISO-8859-1\")\n",
    "cuisine_value = pd2['Cuisine']\n",
    "data = pd1[(pd1['cuisines']==cuisine_value[0]) | (pd1['cuisines']==cuisine_value[1]) | (pd1['cuisines']==cuisine_value[2]) | (pd1['cuisines']==cuisine_value[3]) | (pd1['cuisines']==cuisine_value[4])]\n",
    "data = data.merge(table_data,how='inner',on='id')\n",
    "data = data.rename(index=str, columns = {\"lat_y\":\"lat\",\"lng_y\":\"lng\",\"price_y\":\"price\"})\n",
    "print(len(data))\n",
    "#print(data.head())\n",
    "#print(data['lat'])\n",
    "#pd2.head()\n",
    "print(\"please enter your query to search\")\n",
    "table_data_dist,tabel_data_dist_osrm,src_LAT,src_LON = searchForRestaurant(input(),data)\n",
    "#print(type(table_data_dist))\n",
    "#table_data_dist.sort_values(by=['price','dist'], ascending=[True,True])[1:5]\n",
    "temp = tabel_data_dist_osrm.sort_values(by=['dist'], ascending=[True,True])[1:5]\n",
    "print(temp)\n",
    "for i in range(4):\n",
    "    openMap(src_LAT,src_LON,temp.iloc[i][\"lat\"],temp.iloc[i][\"lng\"])"
   ]
  },
  {
   "cell_type": "code",
   "execution_count": 59,
   "metadata": {},
   "outputs": [
    {
     "name": "stdout",
     "output_type": "stream",
     "text": [
      "40.751123\n",
      "-74.002069\n"
     ]
    }
   ],
   "source": [
    "#calculateDistance()\n",
    "#table_data_dist\n",
    "#table_data[:5]\n",
    "#table_data.sort_values(by=['price','dist'], ascending=[True,True])[1:5]\n",
    "print(temp.iloc[0][\"lat\"])\n",
    "print(temp.iloc[0][\"lng\"])"
   ]
  },
  {
   "cell_type": "code",
   "execution_count": 24,
   "metadata": {},
   "outputs": [
    {
     "name": "stdout",
     "output_type": "stream",
     "text": [
      "Korean Korean Barbecue Vegetarian\n",
      "Vegetarian Korean Barbecue Vegetarian\n",
      "Pizzeria Italian Pizzeria Contemporary Italian\n",
      "Japanese Japanese\n",
      "Mexican Regional Mexican\n",
      "Korean Korean Asian Gastro Pub\n",
      "Pizzeria Italian Pizzeria\n",
      "Japanese Japanese Fusion / Eclectic\n",
      "Japanese Japanese Sushi Bar / Lounge / Bottle Service\n",
      "Japanese Japanese\n",
      "Mexican Mexican\n",
      "Mexican Contemporary Mexican\n",
      "Pizzeria Italian Pizzeria Tapas / Small Plates\n",
      "Japanese Sushi Japanese Contemporary Asian\n",
      "Pizzeria Italian Pizzeria\n",
      "Mexican Mexican\n",
      "Japanese Japanese Sushi\n",
      "Japanese Japanese Sushi\n",
      "Japanese Japanese Sushi Seafood\n",
      "Japanese Japanese\n",
      "Korean Korean Asian\n",
      "Mexican Mexican / Southwestern Traditional Mexican Regional Mexican\n",
      "Mexican Mexican Contemporary Mexican Mexican / Southwestern\n",
      "Mexican Mexican\n",
      "Mexican Mexican\n",
      "Japanese Japanese\n",
      "Mexican Mexican\n",
      "Pizzeria Pizzeria Italian\n",
      "Mexican Mexican\n",
      "Japanese Japanese Fusion / Eclectic Sushi\n",
      "Vegetarian Thai Vegetarian / Vegan\n",
      "Mexican Mexican American\n",
      "Japanese Japanese Sushi\n",
      "Mexican Mexican\n",
      "Mexican Mexican\n",
      "Japanese Japanese Sushi Steakhouse\n",
      "Japanese Sushi Japanese\n",
      "Mexican Mexican / Southwestern\n",
      "Japanese Japanese Sushi\n",
      "Vegetarian Italian Vegetarian / Vegan\n",
      "Japanese Sushi Japanese\n",
      "Mexican Mexican / Southwestern Contemporary Mexican\n",
      "Vegetarian Organic Vegetarian / Vegan\n",
      "Mexican Mexican Seafood Burgers\n",
      "Mexican Mexican Mexican / Southwestern\n",
      "Vegetarian Italian Mediterranean Vegetarian\n",
      "Japanese Japanese Sushi\n",
      "Mexican Mexican\n",
      "Pizzeria Italian Pizzeria\n",
      "Vegetarian Italian Vegetarian\n",
      "Mexican Mexican\n",
      "Pizzeria Italian Pizzeria Dessert\n",
      "Japanese Japanese Barbecue Tapas / Small Plates\n",
      "Pizzeria Italian Pizzeria\n"
     ]
    }
   ],
   "source": [
    "#table_data_dist,tabel_data_dist_osrm,src_LAT,src_LON = searchForRestaurant(input(),data)\n",
    "#len(data)\n",
    "table_data_dist = pd.DataFrame()\n",
    "tabel_data_dist_osrm = pd.DataFrame()\n",
    "temp = pd.DataFrame()\n",
    "call_recommender()\n",
    "createMergedDataSet()\n",
    "defactorizeCuisine()\n",
    "cleanMergedData()"
   ]
  },
  {
   "cell_type": "code",
   "execution_count": 43,
   "metadata": {},
   "outputs": [
    {
     "name": "stdout",
     "output_type": "stream",
     "text": [
      "53\n",
      "near bryant park\n",
      "SearchForRestaurant 53\n",
      "(40.75374985, -73.9835672012434)\n",
      "   Unnamed: 0  Unnamed: 0.1      id               name_x  \\\n",
      "0           7             8   92776             GAONNURI   \n",
      "1           8            10  102115  Stella 34 Trattoria   \n",
      "2          23            35   85645             Yopparai   \n",
      "3          24            36  112546          Casa Mezcal   \n",
      "4          32            50  104296             Barn Joo   \n",
      "\n",
      "                  address_x    city_x state_x                     area_x  \\\n",
      "0  1250 BROADWAY 39th Floor  New York      NY  New York / Tri-State Area   \n",
      "1   Macys at Herald Square  New York      NY  New York / Tri-State Area   \n",
      "2         151 Rivington St.  New York      NY  New York / Tri-State Area   \n",
      "3             86 Orchard St  New York      NY  New York / Tri-State Area   \n",
      "4              893 Broadway  New York      NY  New York / Tri-State Area   \n",
      "\n",
      "   postal_code_x country_x                        ...                          \\\n",
      "0          10001        US                        ...                           \n",
      "1          10001        US                        ...                           \n",
      "2          10002        US                        ...                           \n",
      "3          10002        US                        ...                           \n",
      "4          10003        US                        ...                           \n",
      "\n",
      "                      area_y  postal_code_y  country_y      phone_y  \\\n",
      "0  New York / Tri-State Area          10001         US  2129719045x   \n",
      "1  New York / Tri-State Area          10001         US  2129679251x   \n",
      "2  New York / Tri-State Area          10002         US   2127777253   \n",
      "3  New York / Tri-State Area          10002         US  2127772600x   \n",
      "4  New York / Tri-State Area          10003         US  6463989663x   \n",
      "\n",
      "         lat        lng price  \\\n",
      "0  40.748135 -73.988038     3   \n",
      "1  40.750124 -73.988318     2   \n",
      "2  40.719193 -73.985528     3   \n",
      "3  40.717960 -73.990232     3   \n",
      "4  40.738912 -73.990223     3   \n",
      "\n",
      "                                     reserve_url_y  \\\n",
      "0   http://www.opentable.com/single.aspx?rid=92776   \n",
      "1  http://www.opentable.com/single.aspx?rid=102115   \n",
      "2   http://www.opentable.com/single.aspx?rid=85645   \n",
      "3  http://www.opentable.com/single.aspx?rid=112546   \n",
      "4  http://www.opentable.com/single.aspx?rid=104296   \n",
      "\n",
      "                                mobile_reserve_url_y  \\\n",
      "0  http://mobile.opentable.com/opentable/?restId=...   \n",
      "1  http://mobile.opentable.com/opentable/?restId=...   \n",
      "2  http://mobile.opentable.com/opentable/?restId=...   \n",
      "3  http://mobile.opentable.com/opentable/?restId=...   \n",
      "4  http://mobile.opentable.com/opentable/?restId=...   \n",
      "\n",
      "                                         image_url_y  \n",
      "0  https://www.opentable.com/img/restimages/92776...  \n",
      "1  https://www.opentable.com/img/restimages/10211...  \n",
      "2  https://www.opentable.com/img/restimages/85645...  \n",
      "3  https://www.opentable.com/img/restimages/11254...  \n",
      "4  https://www.opentable.com/img/restimages/10429...  \n",
      "\n",
      "[5 rows x 42 columns]\n",
      "   Unnamed: 0  Unnamed: 0.1      id       name_x                 address_x  \\\n",
      "0           7             8   92776     GAONNURI  1250 BROADWAY 39th Floor   \n",
      "4          32            50  104296     Barn Joo              893 Broadway   \n",
      "2          23            35   85645     Yopparai         151 Rivington St.   \n",
      "3          24            36  112546  Casa Mezcal             86 Orchard St   \n",
      "\n",
      "     city_x state_x                     area_x  postal_code_x country_x  \\\n",
      "0  New York      NY  New York / Tri-State Area          10001        US   \n",
      "4  New York      NY  New York / Tri-State Area          10003        US   \n",
      "2  New York      NY  New York / Tri-State Area          10002        US   \n",
      "3  New York      NY  New York / Tri-State Area          10002        US   \n",
      "\n",
      "    ...   postal_code_y  country_y      phone_y        lat        lng price  \\\n",
      "0   ...           10001         US  2129719045x  40.748135 -73.988038     3   \n",
      "4   ...           10003         US  6463989663x  40.738912 -73.990223     3   \n",
      "2   ...           10002         US   2127777253  40.719193 -73.985528     3   \n",
      "3   ...           10002         US  2127772600x  40.717960 -73.990232     3   \n",
      "\n",
      "                                     reserve_url_y  \\\n",
      "0   http://www.opentable.com/single.aspx?rid=92776   \n",
      "4  http://www.opentable.com/single.aspx?rid=104296   \n",
      "2   http://www.opentable.com/single.aspx?rid=85645   \n",
      "3  http://www.opentable.com/single.aspx?rid=112546   \n",
      "\n",
      "                                mobile_reserve_url_y  \\\n",
      "0  http://mobile.opentable.com/opentable/?restId=...   \n",
      "4  http://mobile.opentable.com/opentable/?restId=...   \n",
      "2  http://mobile.opentable.com/opentable/?restId=...   \n",
      "3  http://mobile.opentable.com/opentable/?restId=...   \n",
      "\n",
      "                                         image_url_y    dist  \n",
      "0  https://www.opentable.com/img/restimages/92776...  0.2954  \n",
      "4  https://www.opentable.com/img/restimages/10429...  0.3506  \n",
      "2  https://www.opentable.com/img/restimages/85645...  0.6938  \n",
      "3  https://www.opentable.com/img/restimages/11254...  0.7566  \n",
      "\n",
      "[4 rows x 43 columns]\n"
     ]
    }
   ],
   "source": [
    "pd1 = pd.read_csv('data_set_merged_cleaned.csv',encoding = \"ISO-8859-1\")\n",
    "pd2 = pd.read_csv('recommendation.csv',encoding = \"ISO-8859-1\")\n",
    "cuisine_value = pd2['Cuisine']\n",
    "data = pd1[(pd1['cuisines']==cuisine_value[0]) | (pd1['cuisines']==cuisine_value[1]) | (pd1['cuisines']==cuisine_value[2]) | (pd1['cuisines']==cuisine_value[3]) | (pd1['cuisines']==cuisine_value[4])]\n",
    "data = data.merge(table_data,how='inner',on='id')\n",
    "data = data.rename(index=str, columns = {\"lat_y\":\"lat\",\"lng_y\":\"lng\",\"price_y\":\"price\"})\n",
    "print(len(data))\n",
    "#print(data.head())\n",
    "#print(data['lat'])\n",
    "#pd2.head()\n",
    "table_data_dist,tabel_data_dist_osrm,src_LAT,src_LON = searchForRestaurant(input(),data)\n",
    "temp = tabel_data_dist_osrm.sort_values(by=['price','dist'], ascending=[True,True])[1:5]\n",
    "print(temp)\n",
    "for i in range(4):\n",
    "    openMap(src_LAT,src_LON,temp.iloc[i][\"lat\"],temp.iloc[i][\"lng\"])"
   ]
  }
 ],
 "metadata": {
  "kernelspec": {
   "display_name": "Python 3",
   "language": "python",
   "name": "python3"
  },
  "language_info": {
   "codemirror_mode": {
    "name": "ipython",
    "version": 3
   },
   "file_extension": ".py",
   "mimetype": "text/x-python",
   "name": "python",
   "nbconvert_exporter": "python",
   "pygments_lexer": "ipython3",
   "version": "3.6.0"
  }
 },
 "nbformat": 4,
 "nbformat_minor": 2
}
