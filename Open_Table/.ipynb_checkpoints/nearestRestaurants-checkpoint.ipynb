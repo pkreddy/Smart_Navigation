{
 "cells": [
  {
   "cell_type": "code",
   "execution_count": 138,
   "metadata": {
    "collapsed": true
   },
   "outputs": [],
   "source": [
    "import urllib.request as url\n",
    "import pandas as pd\n",
    "from geopy.distance import vincenty\n",
    "import webbrowser\n",
    "import json\n",
    "from geopy.geocoders import Nominatim\n",
    "geolocator = Nominatim()\n",
    "LAT = 40.7829\n",
    "LON = 73.9654\n",
    "global source\n",
    "source = (LAT,LON)"
   ]
  },
  {
   "cell_type": "code",
   "execution_count": 125,
   "metadata": {},
   "outputs": [
    {
     "data": {
      "text/plain": [
       "595"
      ]
     },
     "execution_count": 125,
     "metadata": {},
     "output_type": "execute_result"
    }
   ],
   "source": [
    "table_data = pd.read_csv('open_table_data_final.csv',encoding = \"ISO-8859-1\")\n",
    "len(table_data)\n"
   ]
  },
  {
   "cell_type": "code",
   "execution_count": 126,
   "metadata": {},
   "outputs": [
    {
     "data": {
      "text/plain": [
       "0    40.745962\n",
       "1    40.745394\n",
       "2    40.751123\n",
       "3    40.748476\n",
       "4    40.748698\n",
       "Name: lat, dtype: float64"
      ]
     },
     "execution_count": 126,
     "metadata": {},
     "output_type": "execute_result"
    }
   ],
   "source": [
    "table_data[:5][\"lat\"]\n"
   ]
  },
  {
   "cell_type": "code",
   "execution_count": 127,
   "metadata": {},
   "outputs": [
    {
     "data": {
      "text/plain": [
       "0   -73.988622\n",
       "1   -73.989588\n",
       "2   -74.002069\n",
       "3   -74.003339\n",
       "4   -74.003228\n",
       "Name: lng, dtype: float64"
      ]
     },
     "execution_count": 127,
     "metadata": {},
     "output_type": "execute_result"
    }
   ],
   "source": [
    "table_data[:5][\"lng\"]"
   ]
  },
  {
   "cell_type": "code",
   "execution_count": 128,
   "metadata": {
    "collapsed": true,
    "scrolled": false
   },
   "outputs": [],
   "source": [
    "def calculateDistance(table_data,source):\n",
    "    distance = []\n",
    "    #print(source)\n",
    "    #table_data1 = pd.DataFrame()\n",
    "    for i in range(len(table_data)):\n",
    "        lat_dest = table_data.at[i,\"lat\"]\n",
    "        lng_dest = table_data.at[i,\"lng\"]\n",
    "        dest = (lat_dest,lng_dest)\n",
    "        distance.append(vincenty(source, dest).miles)\n",
    "    table_data = table_data.assign(dist = distance)\n",
    "    return table_data"
   ]
  },
  {
   "cell_type": "code",
   "execution_count": 129,
   "metadata": {
    "collapsed": true
   },
   "outputs": [],
   "source": [
    "#using geopy displacement\n",
    "def getLatAndLng(place):\n",
    "    location = geolocator.geocode(place)\n",
    "    print((location.latitude, location.longitude))\n",
    "    return [location.latitude,location.longitude]"
   ]
  },
  {
   "cell_type": "code",
   "execution_count": 147,
   "metadata": {},
   "outputs": [
    {
     "data": {
      "text/plain": [
       "0.7368"
      ]
     },
     "execution_count": 147,
     "metadata": {},
     "output_type": "execute_result"
    }
   ],
   "source": [
    "#using osrm matrix distance\n",
    "def calculateDistanceOSRM(table_data,source):\n",
    "    distance = []\n",
    "    for i in range(len(table_data)):\n",
    "        lat_dest = table_data.at[i,\"lat\"]\n",
    "        lng_dest = table_data.at[i,\"lng\"]\n",
    "        json_data = url.urlopen(\"http://router.project-osrm.org/table/v1/drive/\"+source[1]+\",\"+source[0]+\";\"+lng_dest+\",\"+lat_dest+\"?sources=1\")\n",
    "        data = json.load(json_data)\n",
    "        calc_distance = round((data['durations'][0][0]))*0.000621371,4)\n",
    "        distance.append(calc_distance)\n",
    "    table_data = table_data.assign(dist = distance)\n",
    "    return table_data"
   ]
  },
  {
   "cell_type": "code",
   "execution_count": 130,
   "metadata": {},
   "outputs": [],
   "source": [
    "def searchForRestaurant(query,table_data):\n",
    "    if(\"near me\" in query or \"nearme\" in query):\n",
    "        LAT = 40.7829\n",
    "        LON = 73.9654\n",
    "        source = (LAT,LON)\n",
    "    else:\n",
    "        place = query.split(\"near\")\n",
    "        loc = getLatAndLng(place)\n",
    "        LAT = loc[0]\n",
    "        LON = loc[1]\n",
    "        source = (LAT,LON)\n",
    "        table_data_dist = pd.DataFrame()\n",
    "        table_data_dist = calculateDistance(table_data,source)\n",
    "        return table_data_dist"
   ]
  },
  {
   "cell_type": "code",
   "execution_count": 135,
   "metadata": {},
   "outputs": [
    {
     "name": "stdout",
     "output_type": "stream",
     "text": [
      "please enter your query to search\n",
      "near jersey city\n",
      "(40.7281575, -74.0776417)\n"
     ]
    },
    {
     "data": {
      "text/html": [
       "<div>\n",
       "<table border=\"1\" class=\"dataframe\">\n",
       "  <thead>\n",
       "    <tr style=\"text-align: right;\">\n",
       "      <th></th>\n",
       "      <th>id</th>\n",
       "      <th>name</th>\n",
       "      <th>address</th>\n",
       "      <th>city</th>\n",
       "      <th>state</th>\n",
       "      <th>area</th>\n",
       "      <th>postal_code</th>\n",
       "      <th>country</th>\n",
       "      <th>phone</th>\n",
       "      <th>lat</th>\n",
       "      <th>lng</th>\n",
       "      <th>price</th>\n",
       "      <th>reserve_url</th>\n",
       "      <th>mobile_reserve_url</th>\n",
       "      <th>image_url</th>\n",
       "      <th>dist</th>\n",
       "    </tr>\n",
       "  </thead>\n",
       "  <tbody>\n",
       "    <tr>\n",
       "      <th>220</th>\n",
       "      <td>83113</td>\n",
       "      <td>Kana Tapas Bar</td>\n",
       "      <td>324 Spring St</td>\n",
       "      <td>New York</td>\n",
       "      <td>NY</td>\n",
       "      <td>New York / Tri-State Area</td>\n",
       "      <td>10013</td>\n",
       "      <td>US</td>\n",
       "      <td>2123438180</td>\n",
       "      <td>40.725834</td>\n",
       "      <td>-74.009418</td>\n",
       "      <td>2</td>\n",
       "      <td>http://www.opentable.com/single.aspx?rid=83113</td>\n",
       "      <td>http://mobile.opentable.com/opentable/?restId=...</td>\n",
       "      <td>https://www.opentable.com/img/restimages/83113...</td>\n",
       "      <td>3.584942</td>\n",
       "    </tr>\n",
       "    <tr>\n",
       "      <th>223</th>\n",
       "      <td>126202</td>\n",
       "      <td>American Cut- The Morrison Room</td>\n",
       "      <td>363 Greenwich St.</td>\n",
       "      <td>New York</td>\n",
       "      <td>NY</td>\n",
       "      <td>New York / Tri-State Area</td>\n",
       "      <td>10013</td>\n",
       "      <td>US</td>\n",
       "      <td>2122264736</td>\n",
       "      <td>40.719304</td>\n",
       "      <td>-74.010204</td>\n",
       "      <td>2</td>\n",
       "      <td>http://www.opentable.com/single.aspx?rid=126202</td>\n",
       "      <td>http://mobile.opentable.com/opentable/?restId=...</td>\n",
       "      <td>https://www.opentable.com/img/restimages/12620...</td>\n",
       "      <td>3.592591</td>\n",
       "    </tr>\n",
       "    <tr>\n",
       "      <th>219</th>\n",
       "      <td>85597</td>\n",
       "      <td>Pao</td>\n",
       "      <td>322 Spring</td>\n",
       "      <td>New York</td>\n",
       "      <td>NY</td>\n",
       "      <td>New York / Tri-State Area</td>\n",
       "      <td>10013</td>\n",
       "      <td>US</td>\n",
       "      <td>2123345464</td>\n",
       "      <td>40.725961</td>\n",
       "      <td>-74.009179</td>\n",
       "      <td>2</td>\n",
       "      <td>http://www.opentable.com/single.aspx?rid=85597</td>\n",
       "      <td>http://mobile.opentable.com/opentable/?restId=...</td>\n",
       "      <td>https://www.opentable.com/img/restimages/85597...</td>\n",
       "      <td>3.597092</td>\n",
       "    </tr>\n",
       "    <tr>\n",
       "      <th>102</th>\n",
       "      <td>63811</td>\n",
       "      <td>Warren 77</td>\n",
       "      <td>77 Warren Street</td>\n",
       "      <td>New York</td>\n",
       "      <td>NY</td>\n",
       "      <td>New York / Tri-State Area</td>\n",
       "      <td>10007</td>\n",
       "      <td>US</td>\n",
       "      <td>2122278994x</td>\n",
       "      <td>40.715151</td>\n",
       "      <td>-74.010322</td>\n",
       "      <td>2</td>\n",
       "      <td>http://www.opentable.com/single.aspx?rid=63811</td>\n",
       "      <td>http://mobile.opentable.com/opentable/?restId=...</td>\n",
       "      <td>https://www.opentable.com/img/restimages/63811...</td>\n",
       "      <td>3.646356</td>\n",
       "    </tr>\n",
       "  </tbody>\n",
       "</table>\n",
       "</div>"
      ],
      "text/plain": [
       "         id                             name            address      city  \\\n",
       "220   83113                   Kana Tapas Bar      324 Spring St  New York   \n",
       "223  126202  American Cut- The Morrison Room  363 Greenwich St.  New York   \n",
       "219   85597                              Pao         322 Spring  New York   \n",
       "102   63811                        Warren 77   77 Warren Street  New York   \n",
       "\n",
       "    state                       area  postal_code country        phone  \\\n",
       "220    NY  New York / Tri-State Area        10013      US   2123438180   \n",
       "223    NY  New York / Tri-State Area        10013      US   2122264736   \n",
       "219    NY  New York / Tri-State Area        10013      US   2123345464   \n",
       "102    NY  New York / Tri-State Area        10007      US  2122278994x   \n",
       "\n",
       "           lat        lng  price  \\\n",
       "220  40.725834 -74.009418      2   \n",
       "223  40.719304 -74.010204      2   \n",
       "219  40.725961 -74.009179      2   \n",
       "102  40.715151 -74.010322      2   \n",
       "\n",
       "                                         reserve_url  \\\n",
       "220   http://www.opentable.com/single.aspx?rid=83113   \n",
       "223  http://www.opentable.com/single.aspx?rid=126202   \n",
       "219   http://www.opentable.com/single.aspx?rid=85597   \n",
       "102   http://www.opentable.com/single.aspx?rid=63811   \n",
       "\n",
       "                                    mobile_reserve_url  \\\n",
       "220  http://mobile.opentable.com/opentable/?restId=...   \n",
       "223  http://mobile.opentable.com/opentable/?restId=...   \n",
       "219  http://mobile.opentable.com/opentable/?restId=...   \n",
       "102  http://mobile.opentable.com/opentable/?restId=...   \n",
       "\n",
       "                                             image_url      dist  \n",
       "220  https://www.opentable.com/img/restimages/83113...  3.584942  \n",
       "223  https://www.opentable.com/img/restimages/12620...  3.592591  \n",
       "219  https://www.opentable.com/img/restimages/85597...  3.597092  \n",
       "102  https://www.opentable.com/img/restimages/63811...  3.646356  "
      ]
     },
     "execution_count": 135,
     "metadata": {},
     "output_type": "execute_result"
    }
   ],
   "source": [
    "table_data_dist = pd.DataFrame()\n",
    "print(\"please enter your query to search\")\n",
    "table_data_dist = searchForRestaurant(input(),table_data)\n",
    "type(table_data_dist)\n",
    "table_data_dist.sort_values(by=['price','dist'], ascending=[True,True])[1:5]"
   ]
  },
  {
   "cell_type": "code",
   "execution_count": 132,
   "metadata": {},
   "outputs": [],
   "source": [
    "#calculateDistance()\n",
    "#table_data_dist\n",
    "#table_data[:5]\n",
    "#table_data.sort_values(by=['price','dist'], ascending=[True,True])[1:5]"
   ]
  }
 ],
 "metadata": {
  "kernelspec": {
   "display_name": "Python 3",
   "language": "python",
   "name": "python3"
  },
  "language_info": {
   "codemirror_mode": {
    "name": "ipython",
    "version": 3
   },
   "file_extension": ".py",
   "mimetype": "text/x-python",
   "name": "python",
   "nbconvert_exporter": "python",
   "pygments_lexer": "ipython3",
   "version": "3.6.0"
  }
 },
 "nbformat": 4,
 "nbformat_minor": 2
}
